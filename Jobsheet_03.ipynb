{
  "nbformat": 4,
  "nbformat_minor": 0,
  "metadata": {
    "colab": {
      "provenance": [],
      "authorship_tag": "ABX9TyOSe+rB4ytdnFoqc6jx7iEl",
      "include_colab_link": true
    },
    "kernelspec": {
      "name": "python3",
      "display_name": "Python 3"
    },
    "language_info": {
      "name": "python"
    }
  },
  "cells": [
    {
      "cell_type": "markdown",
      "metadata": {
        "id": "view-in-github",
        "colab_type": "text"
      },
      "source": [
        "<a href=\"https://colab.research.google.com/github/Pakas0/2025_PBO_TI1C/blob/main/Jobsheet_03.ipynb\" target=\"_parent\"><img src=\"https://colab.research.google.com/assets/colab-badge.svg\" alt=\"Open In Colab\"/></a>"
      ]
    },
    {
      "cell_type": "markdown",
      "source": [
        "#**Jobsheet 03: Konstruktor, Destruktor, dan Enkapsulasi**"
      ],
      "metadata": {
        "id": "UK3ZCrqIBLcI"
      }
    },
    {
      "cell_type": "markdown",
      "source": [
        "## Praktikum 01 : Enkapsulasi pada kelas Bank Account"
      ],
      "metadata": {
        "id": "N0Gs0j0UBjKP"
      }
    },
    {
      "cell_type": "code",
      "execution_count": 5,
      "metadata": {
        "id": "SyBopoM6A3Rm",
        "outputId": "d9a98c04-a039-444f-aa3b-690d408fcd19",
        "colab": {
          "base_uri": "https://localhost:8080/",
          "height": 263
        }
      },
      "outputs": [
        {
          "output_type": "stream",
          "name": "stdout",
          "text": [
            "500 telah ditambahkan ke akun Alice.\n",
            "Jumlah deposit harus lebih dari 0.\n",
            "300 telah ditarik dari akun Alice\n",
            "Saldo tidak mencukupi.\n",
            "Saldo terakhir di akun: Alice: 1200\n"
          ]
        },
        {
          "output_type": "error",
          "ename": "AttributeError",
          "evalue": "'BankAccount' object has no attribute '__balance'",
          "traceback": [
            "\u001b[0;31m---------------------------------------------------------------------------\u001b[0m",
            "\u001b[0;31mAttributeError\u001b[0m                            Traceback (most recent call last)",
            "\u001b[0;32m<ipython-input-5-c45af61a8039>\u001b[0m in \u001b[0;36m<cell line: 0>\u001b[0;34m()\u001b[0m\n\u001b[1;32m     32\u001b[0m   \u001b[0mprint\u001b[0m\u001b[0;34m(\u001b[0m\u001b[0;34mf\"Saldo terakhir di akun: {alice_account._BankAccount__owner}: {current_balance}\"\u001b[0m\u001b[0;34m)\u001b[0m\u001b[0;34m\u001b[0m\u001b[0;34m\u001b[0m\u001b[0m\n\u001b[1;32m     33\u001b[0m \u001b[0;34m\u001b[0m\u001b[0m\n\u001b[0;32m---> 34\u001b[0;31m   \u001b[0malice_account\u001b[0m\u001b[0;34m.\u001b[0m\u001b[0m__balance\u001b[0m\u001b[0;34m\u001b[0m\u001b[0;34m\u001b[0m\u001b[0m\n\u001b[0m",
            "\u001b[0;31mAttributeError\u001b[0m: 'BankAccount' object has no attribute '__balance'"
          ]
        }
      ],
      "source": [
        "class BankAccount:\n",
        "    def __init__(self, owner, balance):\n",
        "        self.__owner = owner\n",
        "        self.__balance = balance\n",
        "    def deposit(self, amount):\n",
        "      if amount > 0 :\n",
        "        self.__balance += amount\n",
        "        print(f\"{amount} telah ditambahkan ke akun {self.__owner}.\")\n",
        "      else:\n",
        "        print(\"Jumlah deposit harus lebih dari 0.\")\n",
        "\n",
        "    def withdraw(self, amount):\n",
        "        if amount <= self.__balance:\n",
        "            self.__balance -= amount\n",
        "            print(f\"{amount} telah ditarik dari akun {self.__owner}\")\n",
        "        else:\n",
        "            print(\"Saldo tidak mencukupi.\")\n",
        "\n",
        "    def get_balance(self):\n",
        "      return self.__balance\n",
        "\n",
        "if __name__ == \"__main__\":\n",
        "  alice_account = BankAccount(owner=\"Alice\", balance=1000)\n",
        "\n",
        "  alice_account.deposit(500)\n",
        "  alice_account.deposit(-100)\n",
        "\n",
        "  alice_account.withdraw(300)\n",
        "  alice_account.withdraw(2000)\n",
        "\n",
        "  current_balance = alice_account.get_balance()\n",
        "  print(f\"Saldo terakhir di akun: {alice_account._BankAccount__owner}: {current_balance}\")\n",
        "\n",
        "  alice_account.__balance\n"
      ]
    },
    {
      "cell_type": "markdown",
      "source": [
        "## Praktikum 02: Enkapsulasi pada kelas Employee"
      ],
      "metadata": {
        "id": "h_FXv1UmGTC-"
      }
    },
    {
      "cell_type": "code",
      "source": [
        "class Employee:\n",
        "  def __init__(self, name, salary):\n",
        "    self._name = name\n",
        "    self.__salary = salary\n",
        "\n",
        "  def update_salary(self, increase):\n",
        "    if increase > 0:\n",
        "      self.__salary += increase\n",
        "      print(f\"Gaji telah dinaikkan sebesar {increase}.\")\n",
        "    else:\n",
        "      print(\"Nilai kenaikan harus lebih dari 0.\")\n",
        "\n",
        "  def set_salary(self, new_salary):\n",
        "    if new_salary >= 0:\n",
        "      self.__salary = new_salary\n",
        "      print(f\"Gaji diatur ulang menjadi {new_salary}.\")\n",
        "    else:\n",
        "      print(\"Gaji tidak dapat bernilai negatif.\")\n",
        "\n",
        "  def get_salary(self):\n",
        "    return self.__salary\n",
        "\n",
        "  def get_employee_info(self):\n",
        "    return f\"Employee: {self._name}, Gaji: {self.__salary}\"\n",
        "\n",
        "\n",
        "if __name__==\"__main__\":\n",
        "  employee1 = Employee(\"John Doe\", 50000)\n",
        "  print(employee1.get_employee_info())\n",
        "\n",
        "  employee1.update_salary(5000)\n",
        "  print(f\"Gaji setelah kenaikan: {employee1.get_salary()}\")\n",
        "\n",
        "  employee1.set_salary(60000)\n",
        "  print(f\"Informasi terbaru: {employee1.get_employee_info()}\")\n",
        "\n",
        "  print(employee1.__salary)\n",
        "\n",
        "\n"
      ],
      "metadata": {
        "id": "X0R3iMCGGXqm",
        "outputId": "f8fde0e7-3ef5-46a5-cbf8-56d8021b2722",
        "colab": {
          "base_uri": "https://localhost:8080/",
          "height": 297
        }
      },
      "execution_count": 20,
      "outputs": [
        {
          "output_type": "stream",
          "name": "stdout",
          "text": [
            "Employee: John Doe, Gaji: 50000\n",
            "Gaji telah dinaikkan sebesar 5000.\n",
            "Gaji setelah kenaikan: 55000\n",
            "Gaji diatur ulang menjadi 60000.\n",
            "Informasi terbaru: Employee: John Doe, Gaji: 60000\n"
          ]
        },
        {
          "output_type": "error",
          "ename": "AttributeError",
          "evalue": "'Employee' object has no attribute '__salary'",
          "traceback": [
            "\u001b[0;31m---------------------------------------------------------------------------\u001b[0m",
            "\u001b[0;31mAttributeError\u001b[0m                            Traceback (most recent call last)",
            "\u001b[0;32m<ipython-input-20-e49befce9add>\u001b[0m in \u001b[0;36m<cell line: 0>\u001b[0;34m()\u001b[0m\n\u001b[1;32m     35\u001b[0m   \u001b[0mprint\u001b[0m\u001b[0;34m(\u001b[0m\u001b[0;34mf\"Informasi terbaru: {employee1.get_employee_info()}\"\u001b[0m\u001b[0;34m)\u001b[0m\u001b[0;34m\u001b[0m\u001b[0;34m\u001b[0m\u001b[0m\n\u001b[1;32m     36\u001b[0m \u001b[0;34m\u001b[0m\u001b[0m\n\u001b[0;32m---> 37\u001b[0;31m   \u001b[0mprint\u001b[0m\u001b[0;34m(\u001b[0m\u001b[0memployee1\u001b[0m\u001b[0;34m.\u001b[0m\u001b[0m__salary\u001b[0m\u001b[0;34m)\u001b[0m\u001b[0;34m\u001b[0m\u001b[0;34m\u001b[0m\u001b[0m\n\u001b[0m\u001b[1;32m     38\u001b[0m \u001b[0;34m\u001b[0m\u001b[0m\n\u001b[1;32m     39\u001b[0m \u001b[0;34m\u001b[0m\u001b[0m\n",
            "\u001b[0;31mAttributeError\u001b[0m: 'Employee' object has no attribute '__salary'"
          ]
        }
      ]
    },
    {
      "cell_type": "markdown",
      "source": [
        "##Praktikum 03: Konstruktor dan Destruktor Sederhana\n"
      ],
      "metadata": {
        "id": "r0MG2TRlJmDj"
      }
    },
    {
      "cell_type": "code",
      "source": [
        "class SimpleExample:\n",
        "  def __init__(self, name):\n",
        "    self.name = name\n",
        "    print(f\"Konstruktor: Objek '{self.name}' telah dibuat.\")\n",
        "\n",
        "  def __del__(self):\n",
        "    print(f\"Destruktor: Objek '{self.name}' sedang dihapus.\")\n",
        "\n",
        "def main():\n",
        "  print(\"Program dimulai.\\n\")\n",
        "\n",
        "  obj = SimpleExample(\"Demo\")\n",
        "  print(\"Program sedang berjalan...\\n\")\n",
        "\n",
        "  print(\"Program selesai.\\n\")\n",
        "\n",
        "if __name__ == \"__main__\":\n",
        "  main()\n"
      ],
      "metadata": {
        "id": "dk5GVuC0Jo-B",
        "outputId": "2db23522-04c2-4522-b6e7-b0b1f1b5410d",
        "colab": {
          "base_uri": "https://localhost:8080/"
        }
      },
      "execution_count": 21,
      "outputs": [
        {
          "output_type": "stream",
          "name": "stdout",
          "text": [
            "Program dimulai.\n",
            "\n",
            "Konstruktor: Objek 'Demo' telah dibuat.\n",
            "Program sedang berjalan...\n",
            "\n",
            "Program selesai.\n",
            "\n",
            "Destruktor: Objek 'Demo' sedang dihapus.\n"
          ]
        }
      ]
    },
    {
      "cell_type": "markdown",
      "source": [
        "##Praktikum 04: Konstruktor dan Destruktor program FileLogger"
      ],
      "metadata": {
        "id": "sfSPOOHuKnkd"
      }
    },
    {
      "cell_type": "code",
      "source": [
        "class FileLogger:\n",
        "  def __init__(self, filename):\n",
        "    self.filename = filename\n",
        "    try:\n",
        "      self.file = open(filename, \"a\")\n",
        "    except Exception as e:\n",
        "      print(f\"Gagal membuka file '{filename}': {e}\")\n",
        "\n",
        "  def write_log(self, message):\n",
        "    self.file.write(message + \"\\n\")\n",
        "    self.file.flush()\n",
        "    print(f\"Pesan log: '{message}' telah ditulis.\")\n",
        "\n",
        "  def __del__(self):\n",
        "    if hasattr(self, \"file\") and not self.file.closed:\n",
        "      self.file.close()\n",
        "      print(f\"File '{self.filename}' telah ditutup.\")\n",
        "\n",
        "if __name__== \"__main__\":\n",
        "  logger = FileLogger(\"application.log\")\n",
        "\n",
        "  logger.write_log(\"Aplikasi dimulai.\")\n",
        "  logger.write_log(\"Melakukan operasi A...\")\n",
        "  logger.write_log(\"Operasi A selesai.\")\n",
        "  logger.write_log(\"Aplikasi akan segera selesai.\")\n",
        "\n",
        "  del logger\n"
      ],
      "metadata": {
        "id": "I9vJkedIKp65",
        "outputId": "4694fffc-0ac0-45fe-cb33-9f9371cad01c",
        "colab": {
          "base_uri": "https://localhost:8080/"
        }
      },
      "execution_count": 30,
      "outputs": [
        {
          "output_type": "stream",
          "name": "stdout",
          "text": [
            "Pesan log: 'Aplikasi dimulai.' telah ditulis.\n",
            "Pesan log: 'Melakukan operasi A...' telah ditulis.\n",
            "Pesan log: 'Operasi A selesai.' telah ditulis.\n",
            "Pesan log: 'Aplikasi akan segera selesai.' telah ditulis.\n",
            "File 'application.log' telah ditutup.\n"
          ]
        }
      ]
    },
    {
      "cell_type": "markdown",
      "source": [
        "##Praktikum 05: Properti \"self\" pada kelas"
      ],
      "metadata": {
        "id": "KHnOb76lMn9n"
      }
    },
    {
      "cell_type": "code",
      "source": [
        "class Calculator:\n",
        "  def __init__(self, initial_value=0):\n",
        "    self.value = initial_value\n",
        "    print(f\"Kalkulator diinisialisasi dengan nilai: {self.value}\")\n",
        "\n",
        "  def add(self, number):\n",
        "    self.value += number\n",
        "    print(f\"Setelah penambahan {number}, nilai sekarang adalah: {self.value}\")\n",
        "\n",
        "  def subtract(self, number):\n",
        "    self.value -= number\n",
        "    print(f\"Setelah pengurangan {number}, nilai sekarang adalah: {self.value}\")\n",
        "\n",
        "  def reset(self):\n",
        "    self.value = 0\n",
        "    print(\"Nilai telah direset ke 0.\")\n",
        "\n",
        "  def show_value(self):\n",
        "    print(f\"Nilai saat ini adalah: {self.value}\")\n",
        "\n",
        "  def main():\n",
        "    calc1 = Calculator(initial_value=10)\n",
        "\n",
        "    calc1.add(5)\n",
        "    calc1.subtract(3)\n",
        "    calc1.show_value()\n",
        "\n",
        "    calc2 = Calculator()\n",
        "    calc2.add(20)\n",
        "    calc2.show_value()\n",
        "\n",
        "if __name__ == \"__main__\":\n",
        "  main()\n"
      ],
      "metadata": {
        "id": "g-qQMJK8Mqvz",
        "outputId": "e0734845-0e15-49c3-ccd6-e399cdc2d2cf",
        "colab": {
          "base_uri": "https://localhost:8080/"
        }
      },
      "execution_count": 32,
      "outputs": [
        {
          "output_type": "stream",
          "name": "stdout",
          "text": [
            "Kalkulator diinisialisasi dengan nilai: 10\n",
            "Setelah penambahan 5, nilai sekarang adalah: 15\n",
            "Setelah pengurangan 3, nilai sekarang adalah: 12\n",
            "Nilai saat ini adalah: 12\n",
            "Kalkulator diinisialisasi dengan nilai: 0\n",
            "Setelah penambahan 20, nilai sekarang adalah: 20\n",
            "Nilai saat ini adalah: 20\n"
          ]
        }
      ]
    },
    {
      "cell_type": "markdown",
      "source": [
        "##Praktikum 06: Menggunakan getter, setter, dan dekorator @property untuk mengelola akses atribut"
      ],
      "metadata": {
        "id": "uBqG4j2WOthz"
      }
    },
    {
      "cell_type": "code",
      "source": [
        "class Person:\n",
        "  def __init__(self, name, age):\n",
        "    self.__name = name\n",
        "    self.__age = age\n",
        "\n",
        "  @property\n",
        "  def name(self):\n",
        "    return self.__name\n",
        "\n",
        "  @name.setter\n",
        "  def name(self, value):\n",
        "    if not value:\n",
        "      print(\"Nama tidak boleh ksoong\")\n",
        "    else:\n",
        "      self.__name = value\n",
        "\n",
        "  @property\n",
        "  def age(self):\n",
        "    return self.__age\n",
        "\n",
        "  @age.setter\n",
        "  def age(self, value):\n",
        "    if value < 0:\n",
        "      print(\"Umur tidak boleh negatif\")\n",
        "    else:\n",
        "      self.__age = value\n",
        "\n",
        "def main():\n",
        "  person = Person(\"Alice\", 30)\n",
        "  print(f\"Nama: {person.name}, Umur: {person.age}\")\n",
        "\n",
        "  person.name = \"Bob\"\n",
        "  person.age = -35\n",
        "  print(f\"Nama: {person.name}, Umur: {person.age}\")\n",
        "\n",
        "if __name__ == \"__main__\":\n",
        "  main()"
      ],
      "metadata": {
        "id": "yH6WHtZPOvPb",
        "outputId": "f3c376f8-ca9b-4bb5-8065-f593e5cabf2f",
        "colab": {
          "base_uri": "https://localhost:8080/"
        }
      },
      "execution_count": 41,
      "outputs": [
        {
          "output_type": "stream",
          "name": "stdout",
          "text": [
            "Nama: Alice, Umur: 30\n",
            "Umur tidak boleh negatif\n",
            "Nama: Bob, Umur: 30\n"
          ]
        }
      ]
    },
    {
      "cell_type": "markdown",
      "source": [
        "##TUGAS"
      ],
      "metadata": {
        "id": "3hm8-XTJXpkT"
      }
    },
    {
      "cell_type": "code",
      "source": [
        "class self:\n",
        "  def __init__(self, name, score, grade):\n",
        "    self.__name = name\n",
        "    self.__score = score\n",
        "    self.__grade = grade\n",
        "\n",
        "  @property\n",
        "  def name (self):\n",
        "    return self.__name\n",
        "\n",
        "  @name.setter\n",
        "  def name (self, value):\n",
        "    if not value:\n",
        "      print(\"Nama tidak boleh kosong\")\n",
        "    else:\n",
        "      self.__name = value\n",
        "\n",
        "  @property\n",
        "  def score (self):\n",
        "    return self.__score\n",
        "\n",
        "  @score.setter\n",
        "  def score (self, value):\n",
        "    if value < 0 or value > 100:\n",
        "      print(\"Nilai harus berada dalam rentang 0-100\")\n",
        "    else:\n",
        "      self.__score = value\n",
        "\n",
        "  @property\n",
        "  def grade (self):\n",
        "    if self.__score < 60:\n",
        "      return \"E\"\n",
        "    elif self.__score < 70:\n",
        "      return \"D\"\n",
        "    elif self.__score < 80:\n",
        "      return \"C\"\n",
        "    elif self.__score < 90:\n",
        "      return \"B\"\n",
        "    else:\n",
        "      return \"A\"\n",
        "\n",
        "def main():\n",
        "  student1 = self(\"Alice\", 85, \"B\")\n",
        "  print(f\"Nama: {student1.name}, Nilai: {student1.score}, Grade: {student1.grade}\")\n",
        "\n",
        "  student1.name = \"Bob\"\n",
        "  student1.score = 92\n",
        "  print(f\"Nama: {student1.name}, Nilai: {student1.score}, Grade: {student1.grade}\")\n",
        "\n",
        "if __name__ == \"__main__\":\n",
        "  main()"
      ],
      "metadata": {
        "id": "NDuumgrSXryj",
        "outputId": "6a40a8ef-778e-43ad-85e6-c0ff3884b323",
        "colab": {
          "base_uri": "https://localhost:8080/"
        }
      },
      "execution_count": 54,
      "outputs": [
        {
          "output_type": "stream",
          "name": "stdout",
          "text": [
            "Nama: Alice, Nilai: 85, Grade: B\n",
            "Nama: Bob, Nilai: 92, Grade: A\n"
          ]
        }
      ]
    }
  ]
}