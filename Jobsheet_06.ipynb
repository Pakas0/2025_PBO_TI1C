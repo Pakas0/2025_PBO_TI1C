{
  "nbformat": 4,
  "nbformat_minor": 0,
  "metadata": {
    "colab": {
      "provenance": [],
      "authorship_tag": "ABX9TyMAg/CLBQmCWQHJwWmqrXGB",
      "include_colab_link": true
    },
    "kernelspec": {
      "name": "python3",
      "display_name": "Python 3"
    },
    "language_info": {
      "name": "python"
    }
  },
  "cells": [
    {
      "cell_type": "markdown",
      "metadata": {
        "id": "view-in-github",
        "colab_type": "text"
      },
      "source": [
        "<a href=\"https://colab.research.google.com/github/Pakas0/2025_PBO_TI1C/blob/main/Jobsheet_06.ipynb\" target=\"_parent\"><img src=\"https://colab.research.google.com/assets/colab-badge.svg\" alt=\"Open In Colab\"/></a>"
      ]
    },
    {
      "cell_type": "markdown",
      "source": [
        "#Jobsheet 6: ABSTRACT BASE CLASS (ABC) DAN INTERFACE"
      ],
      "metadata": {
        "id": "I0Y74iJg0dHz"
      }
    },
    {
      "cell_type": "markdown",
      "source": [
        "## Praktikum"
      ],
      "metadata": {
        "id": "-brOlKY30u2f"
      }
    },
    {
      "cell_type": "markdown",
      "source": [
        "### Praktikum 01: Mendefinisikan Kelas Abstrak Sederhana"
      ],
      "metadata": {
        "id": "HLUbSUYV0w9S"
      }
    },
    {
      "cell_type": "code",
      "execution_count": 1,
      "metadata": {
        "id": "uZrbPtu4JYTJ",
        "outputId": "c2c88687-f5eb-4f77-c21b-f6eb97553699",
        "colab": {
          "base_uri": "https://localhost:8080/"
        }
      },
      "outputs": [
        {
          "output_type": "stream",
          "name": "stdout",
          "text": [
            "Definisi Kelas Abstrak 'KendaraanAbstrak' selesai.\n",
            "\n",
            "Contoh definisi kelas anak 'Mobil' selesai\n",
            "Inisiasi kendaraan Abstrak dengan merk: Toyota\n",
            "Mesin mobil Toyota dinyalakan.\n",
            "Merk kendaraan ini adalah Toyota.\n",
            "Mesin mobil Toyota dimatikan.\n"
          ]
        }
      ],
      "source": [
        "from abc import ABC, abstractmethod\n",
        "\n",
        "class KendaraanAbstrak (ABC):\n",
        "  def __init__(self, merk):\n",
        "    self.merk = merk\n",
        "    print(f\"Inisiasi kendaraan Abstrak dengan merk: {self.merk}\")\n",
        "\n",
        "  def info_merk(self):\n",
        "    print(f\"Merk kendaraan ini adalah {self.merk}.\")\n",
        "\n",
        "  @abstractmethod\n",
        "  def start_mesin(self):\n",
        "    print(f\"Mesin mobil {self.merk} dinyalakan.\")\n",
        "\n",
        "  def stop_mesin(self):\n",
        "    print(f\"Mesin mobil {self.merk} dimatikan.\")\n",
        "\n",
        "if __name__ == \"__main__\":\n",
        "  print(\"Definisi Kelas Abstrak 'KendaraanAbstrak' selesai.\")\n",
        "  class Mobil (KendaraanAbstrak):\n",
        "    def start_mesin(self):\n",
        "      print(f\"Mesin mobil {self.merk} dinyalakan.\")\n",
        "\n",
        "    def stop_mesin(self):\n",
        "      print(f\"Mesin mobil {self.merk} dimatikan.\")\n",
        "\n",
        "  print(\"\\nContoh definisi kelas anak 'Mobil' selesai\")\n",
        "\n",
        "  mobil_contoh = Mobil(\"Toyota\")\n",
        "  mobil_contoh.start_mesin()\n",
        "  mobil_contoh.info_merk()\n",
        "  mobil_contoh.stop_mesin()"
      ]
    },
    {
      "cell_type": "markdown",
      "source": [
        "### Praktikum 02: Mencoba Instansiasi Kelas Abstrak"
      ],
      "metadata": {
        "id": "JN3-yTSv4Fem"
      }
    },
    {
      "cell_type": "code",
      "source": [
        "from abc import ABC, abstractmethod\n",
        "\n",
        "class MediaAbstrak(ABC):\n",
        "  def __init__(self, judul):\n",
        "    self.judul = judul\n",
        "    print(f\"Inisialisasi MediaAbstrak dengan judul: {self.judul}.\")\n",
        "\n",
        "  @abstractmethod\n",
        "  def play(self):\n",
        "    \"\"\"Metode abstrak untuk memulai pemutaran.\"\"\"\n",
        "    pass\n",
        "\n",
        "  @abstractmethod\n",
        "  def stop(self):\n",
        "    \"\"\"Metode abstrak untuk menghentikan pemutaran.\"\"\"\n",
        "    pass\n",
        "\n",
        "if __name__ == \"__main__\":\n",
        "  print(\"Mencoba membuat objek dari kelas abstrak MediaABstrak...\")\n",
        "  try:\n",
        "    media = MediaAbstrak(\"Konten Abstrak\")\n",
        "    print(\"Objek berhasil dibuat (SEHARUSNYA TIDAK TERJADI).\")\n",
        "    media.play()\n",
        "  except TypeError as e:\n",
        "    print(f\"\\nGAGAL membuat objek!\")\n",
        "    print(f\"Error yang muncul (sesuai harapan): {e}\")\n",
        "    print(\"\\nIni membuktikan bahwa kelas abstrak tidak bisa diinstansiasi\")\n",
        "    print(\"Jika masih memiliki metode abstrak yang belum diimplementasikan\")"
      ],
      "metadata": {
        "id": "5e9EVcaq4LIy",
        "outputId": "687faafe-6ec9-4796-b019-4ae552870203",
        "colab": {
          "base_uri": "https://localhost:8080/"
        }
      },
      "execution_count": 2,
      "outputs": [
        {
          "output_type": "stream",
          "name": "stdout",
          "text": [
            "Mencoba membuat objek dari kelas abstrak MediaABstrak...\n",
            "\n",
            "GAGAL membuat objek!\n",
            "Error yang muncul (sesuai harapan): Can't instantiate abstract class MediaAbstrak with abstract methods play, stop\n",
            "\n",
            "Ini membuktikan bahwa kelas abstrak tidak bisa diinstansiasi\n",
            "Jika masih memiliki metode abstrak yang belum diimplementasikan\n"
          ]
        }
      ]
    },
    {
      "cell_type": "markdown",
      "source": [
        "### Praktikum 03: Membuat Subclass Konkret - Alat Pembayaran"
      ],
      "metadata": {
        "id": "2WKRCzKP6C4f"
      }
    },
    {
      "cell_type": "code",
      "source": [
        "from abc import ABC, abstractmethod\n",
        "import locale\n",
        "import random\n",
        "\n",
        "try:\n",
        "  locale.setlocale(locale.LC_ALL , 'id_ID.UTF-8')\n",
        "except locale.Error:\n",
        "  try:\n",
        "    locale.setlocale(locale.LC_ALL, 'en_US.UTF-8')\n",
        "    print(\"Locale id_ID.UTF-8 tidak tersedia, menggunakan en_US.UTF-8\")\n",
        "  except locale.Error:\n",
        "    print(\"Locale id_ID.UTF-8 dan en_US.UTF-8 tidak tersedia\")\n",
        "\n",
        "def format_rupiah(angka):\n",
        "  return locale.currency(angka, grouping=True, symbol= 'Rp ')\n",
        "\n",
        "\n",
        "class AlatPembayaranAbstrak(ABC):\n",
        "  def __init__(self, nama_metode):\n",
        "    self.nama_metode = nama_metode\n",
        "    print(f\"Inisialisasi alat pembayaran: {self.nama_metode}\")\n",
        "\n",
        "  def info(self):\n",
        "    print(f\"Metode Pembayaran: {self.nama_metode}\")\n",
        "\n",
        "  @abstractmethod\n",
        "  def proses_pembayaran(self, jumlah):\n",
        "    \"\"\"\n",
        "    Metode abstrak untuk memproses pembayaran sejumlah 'jumlah'.\n",
        "    Harus diimplementasikan oleh subclass.\n",
        "    Harus mengembalikan True jika berhasil, False jika gagal.\n",
        "    \"\"\"\n",
        "    pass\n",
        "\n",
        "class KartuKredit(AlatPembayaranAbstrak):\n",
        "  def __init__(self, nomor_kartu, nama_pemilik):\n",
        "    super().__init__(\"Kartu Kredit\")\n",
        "    self.nomor_kartu = nomor_kartu[-4:]\n",
        "    self.nama_pemilik = nama_pemilik\n",
        "    print(f\"  -> Kartu Kredit ************{self.nomor_kartu} ({self.nama_pemilik}) siap.\")\n",
        "\n",
        "  def proses_pembayaran(self, jumlah):\n",
        "    print(f\" Memproses pembayaran {format_rupiah(jumlah)} via Kartu Kredit ************{self.nomor_kartu}...\")\n",
        "    berhasil = random.choice([True, False])\n",
        "    if berhasil:\n",
        "      print(\" Pembayaran Kartu Kredit berhasil.\")\n",
        "      return True\n",
        "    else:\n",
        "      print(\" Pembayaran Kartu Kredit Gagal (Limit tidak cukup/Rrror ).\")\n",
        "\n",
        "class DompetDigital(AlatPembayaranAbstrak):\n",
        "  def __init__(self, nomor_telepon, nama_provider):\n",
        "    super().__init__(f\"Dompet Digital ({nama_provider})\")\n",
        "    self.nomor_telepon = nomor_telepon\n",
        "    self._saldo = random.randint(50000, 500000)\n",
        "    print(f\"  -> Dompet Digital {self.nomor_telepon} siap (Saldo: {format_rupiah(self._saldo)})\")\n",
        "\n",
        "  def proses_pembayaran(self, jumlah):\n",
        "    print(f\" Memproses pembayaran {format_rupiah(jumlah)} via Dompet Digital {self.nomor_telepon}...\")\n",
        "    if jumlah <= self._saldo:\n",
        "      self._saldo -= jumlah\n",
        "      print(\" Pembayaran Dompet Digital Berhasil.\")\n",
        "      print(f\" Saldo tersisa: {format_rupiah(self._saldo)}\")\n",
        "      return True\n",
        "\n",
        "    else:\n",
        "      print(\" Pembayaran Dompet Digital Gagal (Saldo tidak mencukupi).\")\n",
        "      print(f\" Saldo saat ini: {format_rupiah(self._saldo)}\")\n",
        "\n",
        "if __name__ == \"__main__\":\n",
        "   print(\"\\nMembuat Objek ALat Pembayaran...\")\n",
        "   kartu_bca = KartuKredit(\"1234-5678-9012-3456\", \"Budi Cahyono\")\n",
        "   gopay = DompetDigital(\"08123456789\", \"GoPay\")\n",
        "\n",
        "   print(\"\\nMelakukan Pembayaran:\")\n",
        "\n",
        "   print(\"\\nMencoba bayar dengan Kartu Kredit:\")\n",
        "   kartu_bca.info()\n",
        "   status_kk = kartu_bca.proses_pembayaran(150000)\n",
        "   print(f\"Status Transaksi KK: {'Sukses' if status_kk else 'Gagal'}\")\n",
        "\n",
        "   print(\"\\nMencoba bayar dengan GoPay (Jumlah Kecil):\")\n",
        "   gopay.info()\n",
        "   status_gopay1 = gopay.proses_pembayaran(75000)\n",
        "   print(f\" Status Transaksi GoPay 1: {'Sukses' if status_gopay1 else 'Gagal'}\")\n",
        "\n",
        "   print(\"\\nMencoba bayar dengan GoPay (Jumlah besar): \")\n",
        "   status_gopay2 = gopay.proses_pembayaran(1000000)\n",
        "   print(f\" Status Transaksi GoPay 2: {'Sukses' if status_gopay2 else 'Gagal'}\")\n",
        "\n"
      ],
      "metadata": {
        "id": "yQ8NnP8l6Js9",
        "outputId": "0f1e4601-6e1d-492a-8147-855c604dfe98",
        "colab": {
          "base_uri": "https://localhost:8080/"
        }
      },
      "execution_count": 5,
      "outputs": [
        {
          "output_type": "stream",
          "name": "stdout",
          "text": [
            "Locale id_ID.UTF-8 tidak tersedia, menggunakan en_US.UTF-8\n",
            "\n",
            "Membuat Objek ALat Pembayaran...\n",
            "Inisialisasi alat pembayaran: Kartu Kredit\n",
            "  -> Kartu Kredit ************3456 (Budi Cahyono) siap.\n",
            "Inisialisasi alat pembayaran: Dompet Digital (GoPay)\n",
            "  -> Dompet Digital 08123456789 siap (Saldo: $355,832.00)\n",
            "\n",
            "Melakukan Pembayaran:\n",
            "\n",
            "Mencoba bayar dengan Kartu Kredit:\n",
            "Metode Pembayaran: Kartu Kredit\n",
            " Memproses pembayaran $150,000.00 via Kartu Kredit ************3456...\n",
            " Pembayaran Kartu Kredit berhasil.\n",
            "Status Transaksi KK: Sukses\n",
            "\n",
            "Mencoba bayar dengan GoPay (Jumlah Kecil):\n",
            "Metode Pembayaran: Dompet Digital (GoPay)\n",
            " Memproses pembayaran $75,000.00 via Dompet Digital 08123456789...\n",
            " Pembayaran Dompet Digital Berhasil.\n",
            " Saldo tersisa: $280,832.00\n",
            " Status Transaksi GoPay 1: Sukses\n",
            "\n",
            "Mencoba bayar dengan GoPay (Jumlah besar): \n",
            " Memproses pembayaran $1,000,000.00 via Dompet Digital 08123456789...\n",
            " Pembayaran Dompet Digital Gagal (Saldo tidak mencukupi).\n",
            " Saldo saat ini: $280,832.00\n",
            " Status Transaksi GoPay 2: Gagal\n"
          ]
        }
      ]
    }
  ]
}