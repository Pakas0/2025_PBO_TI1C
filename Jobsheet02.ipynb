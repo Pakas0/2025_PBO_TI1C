{
  "nbformat": 4,
  "nbformat_minor": 0,
  "metadata": {
    "colab": {
      "provenance": [],
      "authorship_tag": "ABX9TyMK7RnMnHlAHqlVuqkX//0A",
      "include_colab_link": true
    },
    "kernelspec": {
      "name": "python3",
      "display_name": "Python 3"
    },
    "language_info": {
      "name": "python"
    }
  },
  "cells": [
    {
      "cell_type": "markdown",
      "metadata": {
        "id": "view-in-github",
        "colab_type": "text"
      },
      "source": [
        "<a href=\"https://colab.research.google.com/github/Pakas0/2025_PBO_TI1C/blob/main/Jobsheet02.ipynb\" target=\"_parent\"><img src=\"https://colab.research.google.com/assets/colab-badge.svg\" alt=\"Open In Colab\"/></a>"
      ]
    },
    {
      "cell_type": "markdown",
      "source": [
        "#**Jobsheet 02: DASAR KELAS DAN FUNGSI PADA BAHASA PEMROGRAMAN PYTHON**"
      ],
      "metadata": {
        "id": "iObTExJkMfsm"
      }
    },
    {
      "cell_type": "markdown",
      "source": [
        "##Praktikum 01: Membuat dan Menggunakan Fungsi"
      ],
      "metadata": {
        "id": "06MPfjb8M5vc"
      }
    },
    {
      "cell_type": "markdown",
      "source": [
        "###01 : Fungsi Built-in"
      ],
      "metadata": {
        "id": "uVfNotlsNHVn"
      }
    },
    {
      "cell_type": "code",
      "execution_count": 1,
      "metadata": {
        "colab": {
          "base_uri": "https://localhost:8080/"
        },
        "id": "opVZf2WALXex",
        "outputId": "e7c67b71-85b0-4783-aecd-0ec1652d330a"
      },
      "outputs": [
        {
          "output_type": "stream",
          "name": "stdout",
          "text": [
            "Ini adalah contoh fungsi built-in\n",
            "Panjang kata 'Pemrograman' adalah: 11\n",
            "Nilai maksimum dalam daftar [10, 5, 30, 40, 25] adalah: 40\n"
          ]
        }
      ],
      "source": [
        "# Fungsi Built-in\n",
        "# Fungsi print() adalah contoh fungsi built-in untuk mencetak output\n",
        "print(\"Ini adalah contoh fungsi built-in\")\n",
        "\n",
        "# Fungsi len() adalah contoh fungsi built-in untuk menghitung panjang suatu objek\n",
        "kata = \"Pemrograman\"\n",
        "panjang_kata = len(kata)\n",
        "print(f\"Panjang kata '{kata}' adalah: {panjang_kata}\")\n",
        "\n",
        "# Fungsi max() adalah contoh fungsi built-in untuk mencari nilai maksimum dari sebuah daftar\n",
        "angka = [10, 5, 30, 40, 25]\n",
        "nilai_max = max(angka)\n",
        "print(f\"Nilai maksimum dalam daftar {angka} adalah: {nilai_max}\")"
      ]
    },
    {
      "cell_type": "markdown",
      "source": [
        "###02 : Fungsi User-Defined"
      ],
      "metadata": {
        "id": "qnWV7K2VNkTq"
      }
    },
    {
      "cell_type": "code",
      "source": [
        "# Fungsi User-Defined\n",
        "# Fungsi dengan satu parameter (Menerima satu nilai input)\n",
        "def cetak_kuadrat(angka):\n",
        "# Menghitung kuadrat dari angka yang diterima sebagai parameter\n",
        "  print(f\"Kuadrat dari {angka} adalah: {angka ** 2}\")\n",
        "\n",
        "# Fungsi dengan beberapa parameter (Menerima lebih dari satu nilai input)\n",
        "def hitung_luas_persegi_panjang(panjang, lebar):\n",
        "# Menghitung luas persegi panjang\n",
        "  return panjang * lebar\n",
        "\n",
        "# Fungsi dengan beberapa tipe parameter (Menerima berbagai jenis data)\n",
        "def info_mahasiswa(nama, umur, ipk):\n",
        "# Mencetak informasi mahasiswa\n",
        "  print(f\"Nama: {nama}, Umur: {umur}, IPK: {ipk}\")\n",
        "\n",
        "# Fungsi tanpa return value (Non-return value)\n",
        "def sapa_pengguna(nama):\n",
        "# Fungsi ini hanya mencetak sapaan tanpa mengembalikan nilai\n",
        "  print(f\"Halo, {nama}! Selamat datang di dunia Python.\")\n",
        "\n",
        "# Fungsi dengan return value\n",
        "def hitung_keliling_persegi(sisi):\n",
        "# Mengembalikan keliling persegi\n",
        "  return 4 * sisi\n",
        "\n",
        "# Pemanggilan fungsi dengan satu parameter\n",
        "cetak_kuadrat(5)\n",
        "\n",
        "# Pemanggilan fungsi dengan beberapa parameter\n",
        "luas = hitung_luas_persegi_panjang(10, 5)\n",
        "print(f\"Luas persegi panjang: {luas}\")\n",
        "\n",
        "# Pemanggilan fungsi dengan beberapa tipe parameter\n",
        "info_mahasiswa(\"Budi\", 22, 3.8)\n",
        "\n",
        "# Pemanggilan fungsi tanpa return value\n",
        "sapa_pengguna(\"Andi\")\n",
        "\n",
        "# Pemanggilan fungsi dengan return value\n",
        "keliling = hitung_keliling_persegi(5)\n",
        "print(f\"Keliling persegi dengan sisi 5 adalah: {keliling}\")"
      ],
      "metadata": {
        "colab": {
          "base_uri": "https://localhost:8080/"
        },
        "id": "u6WbHFU7NoSU",
        "outputId": "5a232250-2bc6-4b2b-dcdc-9fe4d8c835ab"
      },
      "execution_count": 5,
      "outputs": [
        {
          "output_type": "stream",
          "name": "stdout",
          "text": [
            "Kuadrat dari 5 adalah: 25\n",
            "Luas persegi panjang: 50\n",
            "Nama: Budi, Umur: 22, IPK: 3.8\n",
            "Halo, Andi! Selamat datang di dunia Python.\n",
            "Keliling persegi dengan sisi 5 adalah: 20\n"
          ]
        }
      ]
    },
    {
      "cell_type": "markdown",
      "source": [
        "##Praktikum 02 : Modularisasi Kode dengan Fungsi"
      ],
      "metadata": {
        "id": "bue0--i_PEwQ"
      }
    },
    {
      "cell_type": "markdown",
      "source": [
        "\n",
        "\n",
        "1. Pisahkan fungsi perhitungan luas dan keliling ke dalam modul geometri.py.\n",
        "2. Buat file Python pada google colab dengan cara .\n",
        "  * klik tombol files pada menu google colab\n",
        "  * tekan tombol new file\n",
        "  * ubah nama file menjadi geometri.py\n",
        "3. Masukkan kode program dalam file baru tersebut (geometri.py)\n",
        "4. Masuk ke file utama dan masukkan kode berikut"
      ],
      "metadata": {
        "id": "S3YtDW9_PK42"
      }
    },
    {
      "cell_type": "code",
      "source": [
        "# File utama main.py yang mengimpor modul geometri.py\n",
        "\n",
        "# Mengimpor modul geometri\n",
        "import geometri\n",
        "\n",
        "def main():\n",
        "# Menggunakan fungsi dari modul meong\n",
        "  luas_persegi = geometri.hitung_luas_persegi(5)\n",
        "  print(f\"Luas persegi dengan sisi 5 adalah: {luas_persegi}\")\n",
        "\n",
        "  luas_persegi_panjang = geometri.hitung_luas_persegi_panjang(10, 5)\n",
        "  print(f\"Luas persegi panjang dengan panjang 10 dan lebar 5 adalah: {luas_persegi_panjang}\")\n",
        "\n",
        "  luas_lingkaran = geometri.hitung_luas_lingkaran(7)\n",
        "  print(f\"Luas lingkaran dengan jari-jari 7 adalah: {luas_lingkaran}\")\n",
        "\n",
        "if __name__ == \"__main__\":\n",
        "  main()"
      ],
      "metadata": {
        "colab": {
          "base_uri": "https://localhost:8080/"
        },
        "id": "TYCdh3qRQsqo",
        "outputId": "8d7601da-9e6d-4318-b9ac-1eb15e734b8a"
      },
      "execution_count": 7,
      "outputs": [
        {
          "output_type": "stream",
          "name": "stdout",
          "text": [
            "Luas persegi dengan sisi 5 adalah: 25\n",
            "Luas persegi panjang dengan panjang 10 dan lebar 5 adalah: 50\n",
            "Luas lingkaran dengan jari-jari 7 adalah: 153.86\n"
          ]
        }
      ]
    },
    {
      "cell_type": "markdown",
      "source": [
        "##Praktikum 03 : Membuat Kelas Sederhana"
      ],
      "metadata": {
        "id": "bNgm1uBBRVMF"
      }
    },
    {
      "cell_type": "markdown",
      "source": [
        "###01 : Kelas Buku untuk merepresentasikan buku di perpustakaan class Buku:"
      ],
      "metadata": {
        "id": "W_8RDf7QSDFv"
      }
    },
    {
      "cell_type": "code",
      "source": [
        "class Buku:\n",
        "  def __init__(self, judul, pengarang, tahun_terbit):\n",
        "    self.judul = judul\n",
        "    self.pengarang = pengarang\n",
        "    self.tahun_terbit = tahun_terbit\n",
        "    self.status = \"Tersedia\" # Status buku, default adalah Tersedia\n",
        "\n",
        "  def tampilkan_info(self):\n",
        "    print(f\"Judul: {self.judul}\")\n",
        "    print(f\"Pengarang: {self.pengarang}\")\n",
        "    print(f\"Tahun Terbit: {self.tahun_terbit}\")\n",
        "    print(f\"Status: {self.status}\")\n",
        "\n",
        "  def pinjam(self):\n",
        "    if self.status == \"Tersedia\":\n",
        "      self.status = \"Dipinjam\"\n",
        "      print(f\"Buku '{self.judul}' telah dipinjam.\")\n",
        "    else:\n",
        "      print(f\"Buku '{self.judul}' sedang dipinjam.\")\n",
        "\n",
        "  def kembalikan(self):\n",
        "    if self.status == \"Dipinjam\":\n",
        "      self.status = \"Tersedia\"\n",
        "      print(f\"Buku '{self.judul}' telah dikembalikan.\")\n",
        "    else:\n",
        "      print(f\"Buku '{self.judul}' tidak sedang dipinjam.\")\n",
        "\n",
        "# Membuat objek dari kelas Buku\n",
        "buku1 = Buku(\"Pemrograman Python\", \"John Doe\", 2021)\n",
        "buku2 = Buku(\"Data Science untuk Pemula\", \"Jane Smith\", 2020)\n",
        "\n",
        "# Menggunakan metode objek Buku\n",
        "buku1.tampilkan_info()\n",
        "buku2.pinjam()\n",
        "\n",
        "# Mengubah status buku dan menampilkan informasi\n",
        "buku2.kembalikan()\n",
        "buku1.pinjam()\n",
        "buku1.tampilkan_info()"
      ],
      "metadata": {
        "colab": {
          "base_uri": "https://localhost:8080/"
        },
        "id": "Z0SN-bwsRZBB",
        "outputId": "91f4ca11-472d-4f57-934f-08aa7cd453bc"
      },
      "execution_count": 19,
      "outputs": [
        {
          "output_type": "stream",
          "name": "stdout",
          "text": [
            "Judul: Pemrograman Python\n",
            "Pengarang: John Doe\n",
            "Tahun Terbit: 2021\n",
            "Status: Tersedia\n",
            "Buku 'Data Science untuk Pemula' telah dipinjam.\n",
            "Buku 'Data Science untuk Pemula' telah dikembalikan.\n",
            "Buku 'Pemrograman Python' telah dipinjam.\n",
            "Judul: Pemrograman Python\n",
            "Pengarang: John Doe\n",
            "Tahun Terbit: 2021\n",
            "Status: Dipinjam\n"
          ]
        }
      ]
    },
    {
      "cell_type": "markdown",
      "source": [
        "###02 : Kelas Mahasiswa untuk merepresentasikan Mahasiswa dalam kelas"
      ],
      "metadata": {
        "id": "dTB_ovW0VG06"
      }
    },
    {
      "cell_type": "code",
      "source": [
        "# Definisi kelas\n",
        "class Mahasiswa:\n",
        "# Konstruktor (__init__) untuk menginisialisasi atribut objek\n",
        "  def __init__(self, nama, nim, umur):\n",
        "    self.nama = nama # Atribut objek nama\n",
        "    self.nim = nim # Atribut objek nim\n",
        "    self.umur = umur # Atribut objek umur\n",
        "\n",
        "# Metode untuk menampilkan informasi mahasiswa\n",
        "  def tampilkan_info(self):\n",
        "    print(f\"Nama: {self.nama}\")\n",
        "    print(f\"NIM: {self.nim}\")\n",
        "    print(f\"Umur: {self.umur} tahun\")\n",
        "\n",
        "# Metode untuk merubah umur mahasiswa\n",
        "  def ubah_umur(self, umur_baru):\n",
        "    self.umur = umur_baru\n",
        "\n",
        "# Membuat objek (instance) dari kelas Mahasiswa\n",
        "mahasiswa1 = Mahasiswa(\"Andi\", \"12345\", 20)\n",
        "mahasiswa2 = Mahasiswa(\"Budi\", \"67890\", 22)\n",
        "\n",
        "# Menggunakan metode dari kelas Mahasiswa\n",
        "mahasiswa1.tampilkan_info()\n",
        "print() # Baris kosong\n",
        "mahasiswa2.tampilkan_info()\n",
        "\n",
        "# Mengubah umur mahasiswa1 menggunakan metode ubah_umur\n",
        "mahasiswa1.ubah_umur(21)\n",
        "\n",
        "# Menampilkan info mahasiswa setelah umur diubah\n",
        "print(\"\\nSetelah mengubah umur mahasiswa1:\")\n",
        "mahasiswa1.tampilkan_info()"
      ],
      "metadata": {
        "colab": {
          "base_uri": "https://localhost:8080/"
        },
        "id": "twLV9DOBVK8n",
        "outputId": "c5034c73-c733-4bd2-958d-e4e3f637dfbf"
      },
      "execution_count": 20,
      "outputs": [
        {
          "output_type": "stream",
          "name": "stdout",
          "text": [
            "Nama: Andi\n",
            "NIM: 12345\n",
            "Umur: 20 tahun\n",
            "\n",
            "Nama: Budi\n",
            "NIM: 67890\n",
            "Umur: 22 tahun\n",
            "\n",
            "Setelah mengubah umur mahasiswa1:\n",
            "Nama: Andi\n",
            "NIM: 12345\n",
            "Umur: 21 tahun\n"
          ]
        }
      ]
    },
    {
      "cell_type": "markdown",
      "source": [
        "##Praktikum 04 : Membuat dan Menggunakan Method dalam Kelas"
      ],
      "metadata": {
        "id": "--Xr-TwYVnuR"
      }
    },
    {
      "cell_type": "code",
      "source": [
        "# Kelas untuk menjelaskan atribut dan metode dalam kelas\n",
        "class HP:\n",
        "  def __init__(self, merk, warna, tahun, harga):\n",
        "# Atribut yang dimiliki oleh objek Mobil\n",
        "    self.merk = merk\n",
        "    self.warna = warna\n",
        "    self.tahun = tahun\n",
        "    self.harga = harga\n",
        "\n",
        "# Fungsi tanpa return value, hanya mencetak informasi\n",
        "  def tampilkan_info(self):\n",
        "    print(f\"Mobil {self.merk} berwarna {self.warna}, tahun {self.tahun}, harga: Rp {self.harga}\")\n",
        "\n",
        "# Fungsi dengan satu parameter\n",
        "  def diskon(self, persen_diskon):\n",
        "# Menghitung harga setelah diskon\n",
        "    diskon_harga = self.harga * (persen_diskon / 100)\n",
        "    harga_setelah_diskon = self.harga - diskon_harga\n",
        "    print(f\"Harga setelah diskon {persen_diskon}%: Rp {harga_setelah_diskon}\")\n",
        "# Tidak mengembalikan nilai, hanya mencetak harga setelah diskon\n",
        "\n",
        "# Fungsi dengan return value, menghitung usia mobil berdasarkan tahun\n",
        "  def hitung_usia(self, tahun_sekarang):\n",
        "    usia = tahun_sekarang - self.tahun\n",
        "    return usia\n",
        "\n",
        "# Fungsi dengan beberapa parameter\n",
        "  def perbarui_harga(self, harga_baru, tahun_baru):\n",
        "    self.harga = harga_baru\n",
        "    self.tahun = tahun_baru\n",
        "    print(f\"Harga dan tahun mobil {self.merk} diperbarui menjadi Rp {self.harga} dan tahun {self.tahun}\")\n",
        "\n",
        "# Membuat objek mobil\n",
        "HP = HP(\"Toyota\", \"Hitam\", 2015, 300000000)\n",
        "HP2 = HP(\"Honda\", \"Merah\", 2018, 250000000)\n",
        "\n",
        "# Menggunakan metode tanpa return value\n",
        "HP.tampilkan_info()\n",
        "HP2.tampilkan_info()\n",
        "\n",
        "# Menggunakan metode dengan satu parameter (diskon)\n",
        "HP.diskon(10)\n",
        "HP2.diskon(15)\n",
        "\n",
        "# Menggunakan metode dengan return value (hitung usia mobil)\n",
        "usia_mobil1 = HP.hitung_usia(2025)\n",
        "usia_mobil2 = HP2.hitung_usia(2025)\n",
        "\n",
        "print(f\"Usia mobil1 pada tahun 2025: {usia_mobil1} tahun\")\n",
        "print(f\"Usia mobil2 pada tahun 2025: {usia_mobil2} tahun\")\n",
        "\n",
        "# Menggunakan metode dengan beberapa parameter (perbarui harga dan tahun)\n",
        "HP.perbarui_harga(280000000, 2022)\n",
        "HP2.perbarui_harga(240000000, 2021)"
      ],
      "metadata": {
        "colab": {
          "base_uri": "https://localhost:8080/"
        },
        "id": "8mLyOXlIVvBg",
        "outputId": "75f40b65-8c6c-4ce2-faf0-649d13e0c96f"
      },
      "execution_count": 23,
      "outputs": [
        {
          "output_type": "stream",
          "name": "stdout",
          "text": [
            "Mobil Toyota berwarna Hitam, tahun 2015, harga: Rp 300000000\n",
            "Mobil Honda berwarna Merah, tahun 2018, harga: Rp 250000000\n",
            "Harga setelah diskon 10%: Rp 270000000.0\n",
            "Harga setelah diskon 15%: Rp 212500000.0\n",
            "Usia mobil1 pada tahun 2025: 10 tahun\n",
            "Usia mobil2 pada tahun 2025: 7 tahun\n",
            "Harga dan tahun mobil Toyota diperbarui menjadi Rp 280000000 dan tahun 2022\n",
            "Harga dan tahun mobil Honda diperbarui menjadi Rp 240000000 dan tahun 2021\n"
          ]
        }
      ]
    },
    {
      "cell_type": "markdown",
      "source": [
        "##Tugas"
      ],
      "metadata": {
        "id": "KZeKjY4IXYGO"
      }
    },
    {
      "cell_type": "code",
      "source": [
        "import HP\n",
        "\n",
        "HP1 = HP.HP(\"Samsung\", \"S23\", 2023, 12000000)\n",
        "HP2 = HP.HP(\"iPhone\", \"15 Pro\", 2024, 25000000)\n",
        "\n",
        "HP1.tampilkan_info()\n",
        "HP2.tampilkan_info()\n",
        "\n",
        "HP1.depresiasi(30)\n",
        "HP2.depresiasi(20)\n",
        "\n",
        "usia_HP1 = HP1.hitung_usia(2025)\n",
        "usia_HP2 = HP2.hitung_usia(2025)\n",
        "\n",
        "print(f\"Usia HP1 pada tahun 2025: {usia_HP1} tahun\")\n",
        "print(f\"Usia HP2 pada tahun 2025: {usia_HP2} tahun\")"
      ],
      "metadata": {
        "colab": {
          "base_uri": "https://localhost:8080/"
        },
        "id": "c2NtSr5ZXbl3",
        "outputId": "38a68e65-a450-4af7-f78e-e2ee9606bb8c"
      },
      "execution_count": 36,
      "outputs": [
        {
          "output_type": "stream",
          "name": "stdout",
          "text": [
            "Handphone Samsung, Tipe S23, tahun 2023, harga baru: Rp 12000000\n",
            "Handphone iPhone, Tipe 15 Pro, tahun 2024, harga baru: Rp 25000000\n",
            "Harga HP pada tahun 2025, mengalami depresiasi 30%: Rp 8400000.0\n",
            "Harga HP pada tahun 2025, mengalami depresiasi 20%: Rp 20000000.0\n",
            "Usia HP1 pada tahun 2025: 2 tahun\n",
            "Usia HP2 pada tahun 2025: 1 tahun\n"
          ]
        }
      ]
    }
  ]
}