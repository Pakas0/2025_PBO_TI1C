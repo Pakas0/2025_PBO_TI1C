{
  "nbformat": 4,
  "nbformat_minor": 0,
  "metadata": {
    "colab": {
      "provenance": [],
      "authorship_tag": "ABX9TyNxr46+oqKVS+njAjaJZiy2",
      "include_colab_link": true
    },
    "kernelspec": {
      "name": "python3",
      "display_name": "Python 3"
    },
    "language_info": {
      "name": "python"
    }
  },
  "cells": [
    {
      "cell_type": "markdown",
      "metadata": {
        "id": "view-in-github",
        "colab_type": "text"
      },
      "source": [
        "<a href=\"https://colab.research.google.com/github/Pakas0/2025_PBO_TI1C/blob/main/Jobsheet_01.ipynb\" target=\"_parent\"><img src=\"https://colab.research.google.com/assets/colab-badge.svg\" alt=\"Open In Colab\"/></a>"
      ]
    },
    {
      "cell_type": "markdown",
      "source": [
        "# **Jobsheet 01: Dasar Bahasa Pemrograman Python**"
      ],
      "metadata": {
        "id": "4FLAXWPSNwEp"
      }
    },
    {
      "cell_type": "markdown",
      "source": [
        "## Praktikum 01: Tipe Data Dasar"
      ],
      "metadata": {
        "id": "EF2RF7ruRf_a"
      }
    },
    {
      "cell_type": "markdown",
      "source": [
        "01: Tipe Data Number (Int, Float, Complex)"
      ],
      "metadata": {
        "id": "pfQlxTK8TyV8"
      }
    },
    {
      "cell_type": "code",
      "execution_count": 10,
      "metadata": {
        "id": "uZrbPtu4JYTJ",
        "outputId": "195c6b7f-3fd5-4142-f73a-3fde875dfcc3",
        "colab": {
          "base_uri": "https://localhost:8080/"
        }
      },
      "outputs": [
        {
          "output_type": "stream",
          "name": "stdout",
          "text": [
            "angka_int = 10 -> <class 'int'>\n",
            "angka_float = 3.14 -> <class 'float'>\n",
            "angka_complex = (2+3j) -> <class 'complex'>\n"
          ]
        }
      ],
      "source": [
        "# 1. Number (int, float, complex)\n",
        "# Integer (int)\n",
        "angka_int = 10\n",
        "print(\"angka_int =\", angka_int, \"->\", type(angka_int))\n",
        "# Float\n",
        "angka_float = 3.14\n",
        "print(\"angka_float =\", angka_float, \"->\", type(angka_float))\n",
        "# Complex\n",
        "angka_complex = 2 + 3j\n",
        "print(\"angka_complex =\", angka_complex, \"->\", type(angka_complex))"
      ]
    },
    {
      "cell_type": "markdown",
      "source": [
        "02: Tipe Data Boolean"
      ],
      "metadata": {
        "id": "zficQ6VcT40v"
      }
    },
    {
      "cell_type": "code",
      "source": [
        "# 2. Boolean\n",
        "is_active = True\n",
        "print(\"is_active =\", is_active, \"->\", type(is_active))"
      ],
      "metadata": {
        "id": "nM7RtlPfTSon",
        "outputId": "ba771ce5-647c-42a6-e6bc-9b5027da9f9e",
        "colab": {
          "base_uri": "https://localhost:8080/"
        }
      },
      "execution_count": 11,
      "outputs": [
        {
          "output_type": "stream",
          "name": "stdout",
          "text": [
            "is_active = True -> <class 'bool'>\n"
          ]
        }
      ]
    },
    {
      "cell_type": "markdown",
      "source": [
        "03: Tipe Data String"
      ],
      "metadata": {
        "id": "EOzP5Y7IT86c"
      }
    },
    {
      "cell_type": "code",
      "source": [
        "# 3. String\n",
        "teks = \"Hello, Python!\"\n",
        "print(\"teks =\", teks, \"->\", type(teks))"
      ],
      "metadata": {
        "id": "43vIl07JTYRz",
        "outputId": "3320391b-b36b-4a85-b53a-5bb194131f98",
        "colab": {
          "base_uri": "https://localhost:8080/"
        }
      },
      "execution_count": 12,
      "outputs": [
        {
          "output_type": "stream",
          "name": "stdout",
          "text": [
            "teks = Hello, Python! -> <class 'str'>\n"
          ]
        }
      ]
    },
    {
      "cell_type": "markdown",
      "source": [
        "04: Tipe Data List"
      ],
      "metadata": {
        "id": "KEDxLft7UR0a"
      }
    },
    {
      "cell_type": "code",
      "source": [
        "# 4. List\n",
        "# List adalah tipe data terurut dan dapat diubah (mutable)\n",
        "daftar_angka = [1, 2, 3, 4, 5]\n",
        "print(\"daftar_angka =\", daftar_angka, \"->\", type(daftar_angka))"
      ],
      "metadata": {
        "id": "TnQJbopPTd_f",
        "outputId": "5ca18b5c-a5cb-4d2a-c752-41bdb7d0888a",
        "colab": {
          "base_uri": "https://localhost:8080/"
        }
      },
      "execution_count": 13,
      "outputs": [
        {
          "output_type": "stream",
          "name": "stdout",
          "text": [
            "daftar_angka = [1, 2, 3, 4, 5] -> <class 'list'>\n"
          ]
        }
      ]
    },
    {
      "cell_type": "markdown",
      "source": [
        "05: Tipe Data Tuple"
      ],
      "metadata": {
        "id": "GFMlmnu_UT0p"
      }
    },
    {
      "cell_type": "code",
      "source": [
        "# 5. Tuple\n",
        "# Tuple adalah tipe data terurut tetapi tidak dapat diubah (immutable)\n",
        "koordinat = (10, 20)\n",
        "print(\"koordinat =\", koordinat, \"->\", type(koordinat))"
      ],
      "metadata": {
        "id": "6Xecz5DATiX9",
        "outputId": "005f35c1-643e-4818-e391-a3bc5ca544c7",
        "colab": {
          "base_uri": "https://localhost:8080/"
        }
      },
      "execution_count": 14,
      "outputs": [
        {
          "output_type": "stream",
          "name": "stdout",
          "text": [
            "koordinat = (10, 20) -> <class 'tuple'>\n"
          ]
        }
      ]
    },
    {
      "cell_type": "markdown",
      "source": [
        "06: Tipe Data Dictionary"
      ],
      "metadata": {
        "id": "r41wJIYHUWaq"
      }
    },
    {
      "cell_type": "code",
      "source": [
        "# 6. Dictionary\n",
        "# Dictionary menyimpan data dalam pasangan key-value\n",
        "data_mahasiswa = {\n",
        "\"nama\": \"Andi\",\n",
        "\"nim\": \"A11.2022.12345\",\n",
        "\"jurusan\": \"Teknik Informatika\"\n",
        "}\n",
        "print(\"data_mahasiswa =\", data_mahasiswa, \"->\", type(data_mahasiswa))"
      ],
      "metadata": {
        "id": "AeBP2xgrTmxI",
        "outputId": "c336dbe4-4548-4e24-b5de-65612d59281c",
        "colab": {
          "base_uri": "https://localhost:8080/"
        }
      },
      "execution_count": 15,
      "outputs": [
        {
          "output_type": "stream",
          "name": "stdout",
          "text": [
            "data_mahasiswa = {'nama': 'Andi', 'nim': 'A11.2022.12345', 'jurusan': 'Teknik Informatika'} -> <class 'dict'>\n"
          ]
        }
      ]
    },
    {
      "cell_type": "markdown",
      "source": [
        "07: Tipe Data Set"
      ],
      "metadata": {
        "id": "q7WXxpuvUZTK"
      }
    },
    {
      "cell_type": "code",
      "source": [
        "# 7. Set\n",
        "# Set adalah tipe data yang tidak terurut, unik (tiap elemen hanya muncul 1x)\n",
        "himpunan_angka = {1, 2, 3, 2, 1}\n",
        "print(\"himpunan_angka =\", himpunan_angka, \"->\", type(himpunan_angka))"
      ],
      "metadata": {
        "id": "2IWIrkIFTq8Y",
        "outputId": "8aa1dbed-01af-4617-83d1-9b094917800e",
        "colab": {
          "base_uri": "https://localhost:8080/"
        }
      },
      "execution_count": 16,
      "outputs": [
        {
          "output_type": "stream",
          "name": "stdout",
          "text": [
            "himpunan_angka = {1, 2, 3} -> <class 'set'>\n"
          ]
        }
      ]
    },
    {
      "cell_type": "markdown",
      "source": [
        "08: Konversi Tipe Data (String -> Int)"
      ],
      "metadata": {
        "id": "CYPfK_39Ud6t"
      }
    },
    {
      "cell_type": "code",
      "source": [
        "# 8. Contoh penggunaan konversi tipe data\n",
        "nilai_str = \"100\"\n",
        "print(\"\\nnilai_str =\", nilai_str, \"->\", type(nilai_str))\n",
        "nilai_int = int(nilai_str) # konversi string ke integer\n",
        "print(\"nilai_int =\", nilai_int, \"->\", type(nilai_int))"
      ],
      "metadata": {
        "id": "qU8xF51_TwNL",
        "outputId": "92d3a295-92ed-4646-baa0-48a161010744",
        "colab": {
          "base_uri": "https://localhost:8080/"
        }
      },
      "execution_count": 17,
      "outputs": [
        {
          "output_type": "stream",
          "name": "stdout",
          "text": [
            "\n",
            "nilai_str = 100 -> <class 'str'>\n",
            "nilai_int = 100 -> <class 'int'>\n"
          ]
        }
      ]
    },
    {
      "cell_type": "markdown",
      "source": [
        "## Praktikum 02: Variabel dan Operasi Dasar"
      ],
      "metadata": {
        "id": "C7OS_GY7Re49"
      }
    },
    {
      "cell_type": "markdown",
      "source": [
        "01: Pendeklarasian Variabel"
      ],
      "metadata": {
        "id": "4JmWRCUHVjpj"
      }
    },
    {
      "cell_type": "code",
      "source": [
        "# 1. Pendeklarasian Variabel\n",
        "nama = \"Budi\"\n",
        "umur = 20\n",
        "tinggi = 170.5\n",
        "is_student = True\n",
        "\n",
        "print(\"Nama =\", nama)\n",
        "print(\"Umur =\", umur)\n",
        "print(\"Tinggi =\", tinggi, \"cm\")\n",
        "print(\"Mahasiswa =\", is_student)\n",
        "\n",
        "# Python tidak memerlukan deklarasi tipe data secara eksplisit.\n",
        "# Tipe data variabel akan menyesuaikan nilai yang diberikan.\n"
      ],
      "metadata": {
        "id": "NVAIfG1jSM6U",
        "outputId": "29ef64b0-4574-4a24-9a6c-d9923ae57dc4",
        "colab": {
          "base_uri": "https://localhost:8080/"
        }
      },
      "execution_count": 18,
      "outputs": [
        {
          "output_type": "stream",
          "name": "stdout",
          "text": [
            "Nama = Budi\n",
            "Umur = 20\n",
            "Tinggi = 170.5 cm\n",
            "Mahasiswa = True\n"
          ]
        }
      ]
    },
    {
      "cell_type": "markdown",
      "source": [
        "02: Operasi Aritmatika"
      ],
      "metadata": {
        "id": "6naPFlFfVo2E"
      }
    },
    {
      "cell_type": "code",
      "source": [
        "# 2. Operasi Aritmatika\n",
        "a = 10\n",
        "b = 3\n",
        "\n",
        "penjumlahan = a + b       #Tambah\n",
        "pengurangan = a - b       #Kurang\n",
        "perkalian = a * b         #Kali\n",
        "pembagian = a / b         #Bagi (Hasil Desimal/Float)\n",
        "pembagian_bulat = a // b  #Bagi (Hasil bil. Bulat)\n",
        "modulus = a % b           #Sisa Bagi\n",
        "pangkat = a**b            #Pemangkatan\n",
        "\n",
        "print(\"Operasi Aritmatika\")\n",
        "print(\"a =\", a, \"b =\", b)\n",
        "print(\"Penjumlahan\", penjumlahan)\n",
        "print(\"Pengurangan\", pengurangan)\n",
        "print(\"Perkalian\", perkalian)\n",
        "print(\"Pembagian\", pembagian)\n",
        "print(\"Pembagian Bulat\", pembagian_bulat)\n",
        "print(\"Modulus\", modulus)\n",
        "print(\"Pangkat\", pangkat)\n"
      ],
      "metadata": {
        "id": "iV1RtjtTWIax",
        "outputId": "0f7cd5ab-d107-4a53-8faa-88f034adcaa3",
        "colab": {
          "base_uri": "https://localhost:8080/"
        }
      },
      "execution_count": 26,
      "outputs": [
        {
          "output_type": "stream",
          "name": "stdout",
          "text": [
            "Operasi Aritmatika\n",
            "a = 10 b = 3\n",
            "Penjumlahan 13\n",
            "Pengurangan 7\n",
            "Perkalian 30\n",
            "Pembagian 3.3333333333333335\n",
            "Pembagian Bulat 3\n",
            "Modulus 1\n",
            "Pangkat 1000\n"
          ]
        }
      ]
    },
    {
      "cell_type": "markdown",
      "source": [
        "03: Operasi Perbandingan"
      ],
      "metadata": {
        "id": "4U5I1ZYEYRNo"
      }
    },
    {
      "cell_type": "code",
      "source": [
        "# 3. Operasi Perbandingan\n",
        "# Menghasilkan nilai Boolean (True/False)\n",
        "lebih_besar = a > b\n",
        "lebih_kecil = a < b\n",
        "sama_dengan = a == b\n",
        "tidak_sama_dengan = a != b\n",
        "lebih_besar_sama = a >= b\n",
        "lebih_kecil_sama = a <= b\n",
        "\n",
        "print(\"Operasi Perbandingan\")\n",
        "print(\"a =\", a, \"b =\", b)\n",
        "print(\"a > b =\", lebih_besar)\n",
        "print(\"a < b =\", lebih_kecil)\n",
        "print(\"a == b  =\", sama_dengan)\n",
        "print(\"a != =\", tidak_sama_dengan)\n",
        "print(\"a >= b =\", lebih_besar_sama)\n",
        "print(\"a <= b =\", lebih_kecil_sama)"
      ],
      "metadata": {
        "id": "VoOA2DlZX7FE",
        "outputId": "84a9051c-9e65-4941-ccf5-d15446faf613",
        "colab": {
          "base_uri": "https://localhost:8080/"
        }
      },
      "execution_count": 27,
      "outputs": [
        {
          "output_type": "stream",
          "name": "stdout",
          "text": [
            "Operasi Perbandingan\n",
            "a = 10 b = 3\n",
            "a > b = True\n",
            "a < b = False\n",
            "a == b  = False\n",
            "a != = True\n",
            "a >= b = True\n",
            "a <= b = False\n"
          ]
        }
      ]
    },
    {
      "cell_type": "markdown",
      "source": [
        "04: Operasi Logika"
      ],
      "metadata": {
        "id": "p6OzpEiTZoDS"
      }
    },
    {
      "cell_type": "code",
      "source": [
        "from logging import log\n",
        "# 4. Operasi Logika\n",
        "# and, or, not\n",
        "\n",
        "x =  True\n",
        "y = False\n",
        "\n",
        "logika_and = x and y\n",
        "logika_or = x or y\n",
        "logika_not_x = not y\n",
        "\n",
        "print(\"Operasi Logika\")\n",
        "print(\"x =\", x, \"y =\", y)\n",
        "print(\"x and y =\", logika_and)\n",
        "print(\"x or y =\", logika_or)\n",
        "print(\"not x =\", logika_not_x)"
      ],
      "metadata": {
        "id": "zKPja7h7Zq4A",
        "outputId": "85c99765-42c9-4ff7-bb1c-41c09bc2b959",
        "colab": {
          "base_uri": "https://localhost:8080/"
        }
      },
      "execution_count": 28,
      "outputs": [
        {
          "output_type": "stream",
          "name": "stdout",
          "text": [
            "Operasi Logika\n",
            "x = True y = False\n",
            "x and y = False\n",
            "x or y = True\n",
            "not x = True\n"
          ]
        }
      ]
    },
    {
      "cell_type": "markdown",
      "source": [
        "05: Contoh Penggunaan di Dalam Percabangan"
      ],
      "metadata": {
        "id": "fY9GIqSBaPT_"
      }
    },
    {
      "cell_type": "code",
      "source": [
        "# 5. Contoh penggunaan di dalam percabangan\n",
        "if a > b and b > 0:\n",
        "  print(\"\\nKondisi terpenuhi: a lebih besar dari b, dan b masih mositif\")\n",
        "else:\n",
        "    print(\"\\nKondisi tidak terpenuhi atau b <=0\")"
      ],
      "metadata": {
        "id": "oUqqpndXaq5k",
        "outputId": "9e3abb4e-f868-41b6-95c6-b4f3a6e77538",
        "colab": {
          "base_uri": "https://localhost:8080/"
        }
      },
      "execution_count": 30,
      "outputs": [
        {
          "output_type": "stream",
          "name": "stdout",
          "text": [
            "\n",
            "Kondisi terpenuhi: a lebih besar dari b, dan b masih mositif\n"
          ]
        }
      ]
    },
    {
      "cell_type": "markdown",
      "source": [
        "##Praktikum 03: Percabangan"
      ],
      "metadata": {
        "id": "hh7sh1c3beZE"
      }
    },
    {
      "cell_type": "markdown",
      "source": [
        "01: IF Sederhana"
      ],
      "metadata": {
        "id": "hZr2rqh6cRhK"
      }
    },
    {
      "cell_type": "code",
      "source": [
        "# 1. IF Sederhana\n",
        "# Program hanya mengeksekusi blok jika kondisinya True\n",
        "\n",
        "nilai = 85\n",
        "print(\"Contoh IF Sederhana:\")\n",
        "if nilai > 80:\n",
        "  print(\"Selamat! Anda lulus dengan nilai tinggi.\\n\")"
      ],
      "metadata": {
        "id": "M77Q0naRblrC",
        "outputId": "ea540e65-1cb5-4978-f605-38024931427e",
        "colab": {
          "base_uri": "https://localhost:8080/"
        }
      },
      "execution_count": 33,
      "outputs": [
        {
          "output_type": "stream",
          "name": "stdout",
          "text": [
            "Contoh IF Sederhana:\n",
            "Selamat! Anda lulus dengan nilai tinggi.\n",
            "\n"
          ]
        }
      ]
    },
    {
      "cell_type": "markdown",
      "source": [
        "02: IF-ELSE"
      ],
      "metadata": {
        "id": "viZ0hUfbcUJ3"
      }
    },
    {
      "cell_type": "code",
      "source": [
        "# 2. IF-ELSE\n",
        "# Jika kondisi True, eksekusi blok if; jika False, eksekusi blok else\n",
        "\n",
        "umur = 17\n",
        "print(\"Contoh IF-ELSE:\")\n",
        "if umur >= 18:\n",
        "  print(\"Anda sudah cukup umur untuk mendapatkan SIM.\")\n",
        "else:\n",
        "  print(\"Anda belum cukup umur untuk mendapatkan SIM.\\n\")"
      ],
      "metadata": {
        "id": "5uex4vvncXwX",
        "outputId": "dc5787bd-7c81-4059-92ca-12ff5d42e3a1",
        "colab": {
          "base_uri": "https://localhost:8080/"
        }
      },
      "execution_count": 34,
      "outputs": [
        {
          "output_type": "stream",
          "name": "stdout",
          "text": [
            "Contoh IF-ELSE:\n",
            "Anda belum cukup umur untuk mendapatkan SIM.\n",
            "\n"
          ]
        }
      ]
    },
    {
      "cell_type": "markdown",
      "source": [
        "03: IF-ELIF-ELSE"
      ],
      "metadata": {
        "id": "iA35D6mSckJ_"
      }
    },
    {
      "cell_type": "code",
      "source": [
        "# 3. IF-ELIF-ELSE\n",
        "# Menangani banyak kondisi secara berurutan.\n",
        "# Jika ada kondisi yang terpenuhi, blok yang bersangkutan dieksekusi,\n",
        "# lalu program melewati blok kondisi setelahnya.\n",
        "\n",
        "hari = \"Rabu\"\n",
        "print(\"Contoh IF-ELIF-ELSE:\")\n",
        "if hari == \"Senin\":\n",
        "  print(\"Hari Senin - Saatnya kembali bekerja!\")\n",
        "elif hari == \"Selasa\":\n",
        "  print(\"Hari Selasa - Jadwal rapat mingguan.\")\n",
        "elif hari == \"Rabu\":\n",
        "  print(\"Hari Rabu - Ada diskon di beberapa toko.\")\n",
        "else:\n",
        "  print(\"Hari lainnya - Atur jadwalmu dengan baik.\\n\")"
      ],
      "metadata": {
        "id": "NcYa8brjcwFj",
        "outputId": "0d078c9d-7b11-4c9f-c00b-203e0857fb07",
        "colab": {
          "base_uri": "https://localhost:8080/"
        }
      },
      "execution_count": 35,
      "outputs": [
        {
          "output_type": "stream",
          "name": "stdout",
          "text": [
            "Contoh IF-ELIF-ELSE:\n",
            "Hari Rabu - Ada diskon di beberapa toko.\n"
          ]
        }
      ]
    },
    {
      "cell_type": "markdown",
      "source": [
        "04: IF Bersarang (Nested IF)"
      ],
      "metadata": {
        "id": "wTMPj7W-cpBk"
      }
    },
    {
      "cell_type": "code",
      "source": [
        "# 4. IF Bersarang (Nested IF)\n",
        "# Kondisi di dalam kondisi, biasa digunakan jika kita perlu\n",
        "# memeriksa sub-kondisi setelah kondisi pertama terpenuhi.\n",
        "\n",
        "suhu = 35\n",
        "print(\"Contoh IF Bersarang (Nested IF):\")\n",
        "if suhu > 30:\n",
        "  print(\"Cuaca cukup panas.\")\n",
        "  if suhu > 40:\n",
        "    print(\"Bahkan sangat terik! Disarankan banyak minum air.\")\n",
        "  else:\n",
        "    print(\"Masih relatif normal, tapi tetap jaga kesehatan.\")\n",
        "else:\n",
        "  print(\"Cuaca sepertinya cukup sejuk.\\n\")"
      ],
      "metadata": {
        "id": "_VcM4556dJp1",
        "outputId": "2d2f01a2-aeac-4d4a-b9e0-84a0f33bcbf8",
        "colab": {
          "base_uri": "https://localhost:8080/"
        }
      },
      "execution_count": 37,
      "outputs": [
        {
          "output_type": "stream",
          "name": "stdout",
          "text": [
            "Contoh IF Bersarang (Nested IF):\n",
            "Cuaca cukup panas.\n",
            "Masih relatif normal, tapi tetap jaga kesehatan.\n"
          ]
        }
      ]
    },
    {
      "cell_type": "markdown",
      "source": [
        "05: Menggabungkan Percabangan dengan Operasi Logika"
      ],
      "metadata": {
        "id": "BBw_D5Ocdr-P"
      }
    },
    {
      "cell_type": "code",
      "source": [
        "# 5. Menggabungkan Percabangan dengan Operasi Logika\n",
        "# Memeriksa beberapa kondisi sekaligus dengan and, or, not\n",
        "\n",
        "nilai_teori = 75\n",
        "nilai_praktik = 80\n",
        "print(\"Contoh IF dengan Operasi Logika AND/OR:\")\n",
        "if nilai_teori >= 70 and nilai_praktik >= 70:\n",
        "  print(\"Anda lulus karena nilai teori dan praktik memadai.\")\n",
        "elif nilai_teori < 70 and nilai_praktik < 70:\n",
        "  print(\"Anda perlu meningkatkan nilai teori dan praktik.\")\n",
        "elif nilai_teori < 70:\n",
        "  print(\"Anda perlu meningkatkan nilai teori.\")\n",
        "else:\n",
        "  print(\"Anda perlu meningkatkan nilai praktik.\\n\")"
      ],
      "metadata": {
        "id": "aZeM3qPSdyQT",
        "outputId": "01094762-24ca-4cca-e309-c4480b916774",
        "colab": {
          "base_uri": "https://localhost:8080/"
        }
      },
      "execution_count": 38,
      "outputs": [
        {
          "output_type": "stream",
          "name": "stdout",
          "text": [
            "Contoh IF dengan Operasi Logika AND/OR:\n",
            "Anda lulus karena nilai teori dan praktik memadai.\n"
          ]
        }
      ]
    },
    {
      "cell_type": "markdown",
      "source": [
        "06: Penggunaan IF Ternary (atau Conditional Expression)"
      ],
      "metadata": {
        "id": "rJj1nhl5eDw1"
      }
    },
    {
      "cell_type": "code",
      "source": [
        "# 6. Penggunaan If Ternary (atau Conditional Expression)\n",
        "# Bentuk ringkas: <hasil_if_true> if <kondisi> else <hasil_if_false>\n",
        "\n",
        "angka = -5\n",
        "print(\"Contoh If Ternary (Conditional Expression):\")\n",
        "status = \"Positif\" if angka > 0 else \"Negatif atau Nol\"\n",
        "print(\"Angka =\", angka, \"=>\", status)"
      ],
      "metadata": {
        "id": "NKcJvgQneKHY",
        "outputId": "c1a4a0f1-4047-4b7e-edbd-562a2605b8c6",
        "colab": {
          "base_uri": "https://localhost:8080/"
        }
      },
      "execution_count": 39,
      "outputs": [
        {
          "output_type": "stream",
          "name": "stdout",
          "text": [
            "Contoh If Ternary (Conditional Expression):\n",
            "Angka = -5 => Negatif atau Nol\n"
          ]
        }
      ]
    },
    {
      "cell_type": "markdown",
      "source": [
        "##Praktikum 04: Perulangan"
      ],
      "metadata": {
        "id": "RCQtKQkWeh5j"
      }
    },
    {
      "cell_type": "markdown",
      "source": [
        "01: FOR Loop dengan range()"
      ],
      "metadata": {
        "id": "H3-KyAaceoGs"
      }
    },
    {
      "cell_type": "code",
      "source": [
        "# 1. FOR Loop dengan range()\n",
        "print(\"FOR loop dengan range()\")\n",
        "for i in range(5):\n",
        "  print(\"Perulangan ke-\", i)\n",
        "# range(5) menghasilkan nilai 0, 1, 2, 3, dan 4\n",
        "# Sehingga perulangan akan berjalan sebanyak 5 kali\n",
        "print() # pemisah output"
      ],
      "metadata": {
        "id": "F3sslpvrevdZ",
        "outputId": "47075451-ea61-432d-e5a5-a0d64c96c0b0",
        "colab": {
          "base_uri": "https://localhost:8080/"
        }
      },
      "execution_count": 42,
      "outputs": [
        {
          "output_type": "stream",
          "name": "stdout",
          "text": [
            "FOR loop dengan range()\n",
            "Perulangan ke- 0\n",
            "Perulangan ke- 1\n",
            "Perulangan ke- 2\n",
            "Perulangan ke- 3\n",
            "Perulangan ke- 4\n",
            "\n"
          ]
        }
      ]
    },
    {
      "cell_type": "code",
      "source": [],
      "metadata": {
        "id": "AiantlSSe_QW"
      },
      "execution_count": null,
      "outputs": []
    }
  ]
}