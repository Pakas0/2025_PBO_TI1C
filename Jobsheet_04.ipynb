{
  "nbformat": 4,
  "nbformat_minor": 0,
  "metadata": {
    "colab": {
      "provenance": [],
      "authorship_tag": "ABX9TyPRnG0IVfF2q3psVf1hjrql",
      "include_colab_link": true
    },
    "kernelspec": {
      "name": "python3",
      "display_name": "Python 3"
    },
    "language_info": {
      "name": "python"
    }
  },
  "cells": [
    {
      "cell_type": "markdown",
      "metadata": {
        "id": "view-in-github",
        "colab_type": "text"
      },
      "source": [
        "<a href=\"https://colab.research.google.com/github/Pakas0/2025_PBO_TI1C/blob/main/Jobsheet_04.ipynb\" target=\"_parent\"><img src=\"https://colab.research.google.com/assets/colab-badge.svg\" alt=\"Open In Colab\"/></a>"
      ]
    },
    {
      "cell_type": "markdown",
      "source": [
        "#Praktikum\n"
      ],
      "metadata": {
        "id": "swbuSCZ-hlJ8"
      }
    },
    {
      "cell_type": "markdown",
      "source": [
        "##Praktikum 01"
      ],
      "metadata": {
        "id": "rvtlWg8ChoFV"
      }
    },
    {
      "cell_type": "code",
      "execution_count": null,
      "metadata": {
        "id": "uZrbPtu4JYTJ",
        "colab": {
          "base_uri": "https://localhost:8080/"
        },
        "outputId": "a90749eb-2aed-4ff0-ec24-32c361691e96"
      },
      "outputs": [
        {
          "output_type": "stream",
          "name": "stdout",
          "text": [
            "Ini adalah mobil Tesla Model S berwarna Merah.\n",
            "Mesin kendaraan Tesla Model S dinyalakan.\n",
            "Merk mobil: Tesla Model S\n"
          ]
        }
      ],
      "source": [
        "class Kendaraan:\n",
        "  def _init_(self, merk):\n",
        "    self.merk = merk\n",
        "  def mulai_mesin (self):\n",
        "    print(f\"Mesin kendaraan {self.merk} dinyalakan.\")\n",
        "\n",
        "class Mobil(Kendaraan):\n",
        "  def __init__(self, merk, warna):\n",
        "    self.merk =  merk\n",
        "    self.warna = warna\n",
        "\n",
        "  def info_mobil(self):\n",
        "    print(f\"Ini adalah mobil {self.merk} berwarna {self.warna}.\")\n",
        "\n",
        "if __name__ == \"__main__\":\n",
        "  mobil_tesla = Mobil(\"Tesla Model S\", \"Merah\")\n",
        "  mobil_tesla.info_mobil()\n",
        "  mobil_tesla.mulai_mesin()\n",
        "\n",
        "  print (f\"Merk mobil: {mobil_tesla.merk}\")"
      ]
    },
    {
      "cell_type": "markdown",
      "source": [
        "##Praktikum 02"
      ],
      "metadata": {
        "id": "JSbPruJdhy18"
      }
    },
    {
      "cell_type": "code",
      "source": [
        "class Person:\n",
        "  def __init__(self, nama, usia):\n",
        "    print(f\"(Memanggil _init__ Person untuk '{nama}')\")\n",
        "    self.nama = nama\n",
        "    self.usia = usia\n",
        "\n",
        "  def perkenalkan_diri(self):\n",
        "    print(f\"Halo, nama saya {self.nama}, usia saya {self.usia} tahun.\")\n",
        "\n",
        "class Student(Person):\n",
        "  def __init__(self, nama, usia, student_id, jurusan):\n",
        "    print(f\"Memanggil __init__ Student untuk '{nama}'\")\n",
        "    super().__init__(nama, usia)\n",
        "    self.student_id = student_id\n",
        "    self.jurusan = jurusan\n",
        "    print(f\"(Inisialisasi atribut Student selesai untuk '{nama}')\")\n",
        "\n",
        "  def info_akademik(self):\n",
        "    print(f\"ID Mahasiswa: {self.student_id}\")\n",
        "    print(f\"Jurusan: {self.jurusan}\")\n",
        "\n",
        "  def perkenalkan_diri(self):\n",
        "    super().perkenalkan_diri()\n",
        "    print(f\"Saya adalah mahasiswa dengan ID {self.student_id}, jurusan {self.jurusan}.\")\n",
        "\n",
        "if __name__ == \"__main__\":\n",
        "  dosen = Person(\"Pak Anton\", 45)\n",
        "  print(\"-\" * 20)\n",
        "  dosen.perkenalkan_diri()\n",
        "  print(\"\\n\" + \"=\" * 30 + \"\\n\")\n",
        "\n",
        "  mahasiswa = Student(\"Dewi\", 20, \"MHS001\", \"Teknik Komputer\")\n",
        "  print(\"-\" * 20)\n",
        "  mahasiswa.perkenalkan_diri()\n",
        "  print(\"-\" * 20)\n",
        "  mahasiswa.info_akademik()\n",
        "\n",
        "  print(f\"\\nUsia mahasiswa {mahasiswa.nama}: {mahasiswa.usia}\")"
      ],
      "metadata": {
        "colab": {
          "base_uri": "https://localhost:8080/"
        },
        "id": "pPlmJIHqh0zp",
        "outputId": "0e5caa4d-b918-4e77-a709-79ad830a8ccc"
      },
      "execution_count": null,
      "outputs": [
        {
          "output_type": "stream",
          "name": "stdout",
          "text": [
            "(Memanggil _init__ Person untuk 'Pak Anton')\n",
            "--------------------\n",
            "Halo, nama saya Pak Anton, usia saya 45 tahun.\n",
            "\n",
            "==============================\n",
            "\n",
            "Memanggil __init__ Student untuk 'Dewi'\n",
            "(Memanggil _init__ Person untuk 'Dewi')\n",
            "(Inisialisasi atribut Student selesai untuk 'Dewi')\n",
            "--------------------\n",
            "Halo, nama saya Dewi, usia saya 20 tahun.\n",
            "Saya adalah mahasiswa dengan ID MHS001, jurusan Teknik Komputer.\n",
            "--------------------\n",
            "ID Mahasiswa: MHS001\n",
            "Jurusan: Teknik Komputer\n",
            "\n",
            "Usia mahasiswa Dewi: 20\n"
          ]
        }
      ]
    },
    {
      "cell_type": "markdown",
      "source": [
        "##Praktikum 03"
      ],
      "metadata": {
        "id": "zPi7vo_Vmw1j"
      }
    },
    {
      "cell_type": "code",
      "source": [
        "class Hewan:\n",
        "  def __init__(self, nama):\n",
        "    self.nama = nama\n",
        "\n",
        "  def bersuara(self):\n",
        "    print(f\"{self.nama} mengeluarkan suara generik\")\n",
        "\n",
        "  def tampilkan_info(self):\n",
        "    print(f\"Ini adalah hewan bernama {self.nama}\")\n",
        "\n",
        "class Kucing(Hewan):\n",
        "  def __init__(self, nama, ras):\n",
        "    super().__init__(nama)\n",
        "    self.ras = ras\n",
        "\n",
        "  def bersuara(self):\n",
        "    print(f\"{self.nama} (Kucing) mengeong: Meow!\")\n",
        "\n",
        "  def tampilkan_info(self):\n",
        "    super().tampilkan_info()\n",
        "    print(f\"Ini adalah kucing ras {self.ras}\")\n",
        "\n",
        "if __name__ == \"__main__\":\n",
        "  hewan_umum = Hewan(\"Makhluk\")\n",
        "  kucing_persia = Kucing(\"Puspus\", \"Persia\")\n",
        "\n",
        "  print(\"Info Hewan Umum:\")\n",
        "  hewan_umum.tampilkan_info()\n",
        "  hewan_umum.bersuara()\n",
        "  print(\"-\" * 20)\n",
        "\n",
        "  print(\"Info Kucing Persia:\")\n",
        "  kucing_persia.tampilkan_info()\n",
        "  kucing_persia.bersuara()"
      ],
      "metadata": {
        "colab": {
          "base_uri": "https://localhost:8080/"
        },
        "id": "gd4yLAr5my91",
        "outputId": "efb339d1-7874-4570-b7ed-10fd2e5b7644"
      },
      "execution_count": null,
      "outputs": [
        {
          "output_type": "stream",
          "name": "stdout",
          "text": [
            "Info Hewan Umum:\n",
            "Ini adalah hewan bernama Makhluk\n",
            "Makhluk mengeluarkan suara generik\n",
            "--------------------\n",
            "Info Kucing Persia:\n",
            "Ini adalah hewan bernama Puspus\n",
            "Ini adalah kucing ras Persia\n",
            "Puspus (Kucing) mengeong: Meow!\n"
          ]
        }
      ]
    },
    {
      "cell_type": "markdown",
      "source": [
        "##Praktikum 04"
      ],
      "metadata": {
        "id": "PZXQKxNVp2X8"
      }
    },
    {
      "cell_type": "code",
      "source": [
        "class Organisme:\n",
        "  def __init__(self, nama):\n",
        "    self.nama = nama\n",
        "    print(f\"Organisme '{self.nama}' diciptakan.\")\n",
        "\n",
        "  def bernapas(self):\n",
        "    print(f\"{self.nama} sedang bernapas\")\n",
        "\n",
        "class Hewan(Organisme):\n",
        "  def __init__(self, nama, jenis_makanan):\n",
        "    super().__init__(nama)\n",
        "    self.jenis_makanan = jenis_makanan\n",
        "    print(f\"Hewan '{self.nama}' adalah {self.jenis_makanan}.\")\n",
        "\n",
        "  def bergerak(self):\n",
        "    print(f\"{self.nama} sedang bergerak.\")\n",
        "\n",
        "class Mamalia(Hewan):\n",
        "  def __init__(self, nama, jenis_makanan, jumlah_kaki):\n",
        "    super().__init__(nama, jenis_makanan)\n",
        "    self.jumlah_kaki = jumlah_kaki\n",
        "    print(f\"Mamalia '{self.nama}' memiliki {self.jumlah_kaki} kaki.\")\n",
        "\n",
        "  def menyusui(self):\n",
        "    print(f\"{self.nama} sedang menyusui.\")\n",
        "\n",
        "if __name__ == \"__main__\":\n",
        "  kucing = Mamalia(\"Kucing Persia\", \"Karnivora\", 4)\n",
        "  print(\"-\" * 20)\n",
        "\n",
        "  kucing.menyusui()\n",
        "\n",
        "  kucing.bergerak()\n",
        "  print(f\"Jenis makanan: {kucing.jenis_makanan}\")\n",
        "\n",
        "  kucing.bernapas()\n",
        "  print(f\"Nama organisme: {kucing.nama}\")"
      ],
      "metadata": {
        "colab": {
          "base_uri": "https://localhost:8080/"
        },
        "id": "XLNLFv7Kp39O",
        "outputId": "6ac9282c-9821-4366-e060-af6344e7752c"
      },
      "execution_count": null,
      "outputs": [
        {
          "output_type": "stream",
          "name": "stdout",
          "text": [
            "Organisme 'Kucing Persia' diciptakan.\n",
            "Hewan 'Kucing Persia' adalah Karnivora.\n",
            "Mamalia 'Kucing Persia' memiliki 4 kaki.\n",
            "--------------------\n",
            "Kucing Persia sedang menyusui.\n",
            "Kucing Persia sedang bergerak.\n",
            "Jenis makanan: Karnivora\n",
            "Kucing Persia sedang bernapas\n",
            "Nama organisme: Kucing Persia\n"
          ]
        }
      ]
    },
    {
      "cell_type": "markdown",
      "source": [
        "##Praktikum 05"
      ],
      "metadata": {
        "id": "R3Qy8hnQsU9W"
      }
    },
    {
      "cell_type": "code",
      "source": [
        "!apt-get install -y locales\n",
        "!locale-gen id_ID.UTF-8\n",
        "!update-locale"
      ],
      "metadata": {
        "colab": {
          "base_uri": "https://localhost:8080/"
        },
        "id": "pYxuYxIWsXX9",
        "outputId": "78ca9fbd-62dc-4242-9a83-ffc2a10c77bc"
      },
      "execution_count": null,
      "outputs": [
        {
          "output_type": "stream",
          "name": "stdout",
          "text": [
            "Reading package lists... Done\n",
            "Building dependency tree... Done\n",
            "Reading state information... Done\n",
            "locales is already the newest version (2.35-0ubuntu3.9).\n",
            "0 upgraded, 0 newly installed, 0 to remove and 34 not upgraded.\n",
            "Generating locales (this might take a while)...\n",
            "  id_ID.UTF-8... done\n",
            "Generation complete.\n"
          ]
        }
      ]
    },
    {
      "cell_type": "code",
      "source": [
        "import locale\n",
        "\n",
        "try:\n",
        "  locale.setlocale(locale.LC_ALL, 'id_ID.UTF-8')\n",
        "except locale.Error:\n",
        "  print(\"Locale id_ID.UTF-8 tidak tersedia, menggunakan locale default.\")\n",
        "\n",
        "def format_rupiah(angka):\n",
        "  return locale.currency(angka, grouping=True, symbol= 'Rp ')\n",
        "\n",
        "class Pegawai:\n",
        "  def __init__(self, nama, id_pegawai, gaji_pokok):\n",
        "    self.nama = nama\n",
        "    self.id_pegawai = id_pegawai\n",
        "    self.gaji_pokok = gaji_pokok\n",
        "\n",
        "  def hitung_gaji(self):\n",
        "    return self.gaji_pokok\n",
        "\n",
        "  def tampilkan_info(self):\n",
        "    print(f\"ID: {self.id_pegawai}, Nama: {self.nama}\")\n",
        "    print(f\"Gaji Pokok: {format_rupiah(self.gaji_pokok)}\")\n",
        "\n",
        "class Manager(Pegawai):\n",
        "  def __init__(self, nama, id_pegawai, gaji_pokok, tunjangan_jabatan):\n",
        "    super().__init__(nama, id_pegawai, gaji_pokok)\n",
        "    self.tunjangan_jabatan = tunjangan_jabatan\n",
        "\n",
        "  def hitung_gaji(self):\n",
        "    gaji_total = super().hitung_gaji() + self.tunjangan_jabatan\n",
        "    return gaji_total\n",
        "\n",
        "  def tampilkan_info(self):\n",
        "    print(\"---Info Manager---\")\n",
        "    super().tampilkan_info()\n",
        "    print(f\"Total gaji: {format_rupiah(self.hitung_gaji())}\")\n",
        "\n",
        "class StafTeknis(Pegawai):\n",
        "  def __init__(self, nama, id_pegawai, gaji_pokok, keahlian, bonus_keahlian):\n",
        "    super().__init__(nama, id_pegawai, gaji_pokok)\n",
        "    self.keahlian = keahlian\n",
        "    self.bonus_keahlian = bonus_keahlian\n",
        "\n",
        "  def hitung_gaji(self):\n",
        "    gaji_total = super().hitung_gaji() + self.bonus_keahlian\n",
        "    return gaji_total\n",
        "\n",
        "  def tampilkan_info(self):\n",
        "    print(\"---Info Staf Teknis---\")\n",
        "    super().tampilkan_info()\n",
        "    print(f\"Keahlian: {self.keahlian}\")\n",
        "    print(f\"Total gaji: {format_rupiah(self.hitung_gaji())}\")\n",
        "\n",
        "if __name__ == \"__main__\":\n",
        "  manager1 = Manager(\"Budi Santoso\", \"M001\", 10000000, 5000000)\n",
        "  staf1 = StafTeknis(\"Citra Lestari\", \"S001\", 7000000, \"Python Programming\", 1500000)\n",
        "  pegawai_baru = Pegawai(\"Rian\", \"P005\", 5000000)\n",
        "\n",
        "  print(\"Menampilkan Informasi Pegawai: \")\n",
        "  manager1.tampilkan_info()\n",
        "  print(\"-\" * 30)\n",
        "  staf1.tampilkan_info()\n",
        "  print(\"-\" * 30)\n",
        "\n",
        "  print(\"---Info Pegawai Baru---\")\n",
        "  pegawai_baru.tampilkan_info()\n",
        "  print(f\"Total gaji: {format_rupiah(pegawai_baru.hitung_gaji())}\")\n",
        "  print(\"-\" * 30)\n",
        "\n"
      ],
      "metadata": {
        "colab": {
          "base_uri": "https://localhost:8080/"
        },
        "id": "Hu0j8QxOstbj",
        "outputId": "f38282d4-32d5-487c-8807-8844bd539397"
      },
      "execution_count": null,
      "outputs": [
        {
          "output_type": "stream",
          "name": "stdout",
          "text": [
            "Menampilkan Informasi Pegawai: \n",
            "---Info Manager---\n",
            "ID: M001, Nama: Budi Santoso\n",
            "Gaji Pokok: Rp10.000.000,00\n",
            "Total gaji: Rp15.000.000,00\n",
            "------------------------------\n",
            "---Info Staf Teknis---\n",
            "ID: S001, Nama: Citra Lestari\n",
            "Gaji Pokok: Rp7.000.000,00\n",
            "Keahlian: Python Programming\n",
            "Total gaji: Rp8.500.000,00\n",
            "------------------------------\n",
            "---Info Pegawai Baru---\n",
            "ID: P005, Nama: Rian\n",
            "Gaji Pokok: Rp5.000.000,00\n",
            "Total gaji: Rp5.000.000,00\n",
            "------------------------------\n"
          ]
        }
      ]
    },
    {
      "cell_type": "markdown",
      "source": [
        "##Praktikum 06"
      ],
      "metadata": {
        "id": "2lJ2uztZz-wa"
      }
    },
    {
      "cell_type": "code",
      "source": [
        "class BentukGeometri:\n",
        "  def __init__(self, nama_bentuk):\n",
        "    self.nama = nama_bentuk\n",
        "  def tampilkan_nama(self):\n",
        "    print(f\"Ini adalah bentuk: {self.nama}\")\n",
        "  def hitung_luas(self):\n",
        "    print(f\"Luas {self.nama} tidak dapat dihitung (generik).\")\n",
        "\n",
        "class PersegiPanjang(BentukGeometri):\n",
        "  def __init__(self, panjang, lebar):\n",
        "    super().__init__(\"Persegi Panjang\")\n",
        "    self.panjang = panjang\n",
        "    self.lebar = lebar\n",
        "\n",
        "  def hitung_luas(self):\n",
        "    luas = self.panjang * self.lebar\n",
        "    print(f\"Luas {self.nama}: {luas}\")\n",
        "\n",
        "class Segitiga(BentukGeometri):\n",
        "  def __init__(self, alas, tinggi):\n",
        "    super().__init__(\"Segitiga\")\n",
        "    self.alas = alas\n",
        "    self.tinggi = tinggi\n",
        "  def hitung_luas(self):\n",
        "    luas = 0.5 * self.alas * self.tinggi\n",
        "    print(f\"Luas {self.nama}: {luas}\")\n",
        "\n",
        "def proses_bentuk(bentuk):\n",
        "  print(f\"\\nMemproses objek: {type(bentuk)}\")\n",
        "  if isinstance(bentuk, BentukGeometri):\n",
        "    bentuk.tampilkan_nama()\n",
        "    print(\"Objek ini adalah instance dari BentukGeometri (atau turunannya).\")\n",
        "    if isinstance(bentuk, PersegiPanjang):\n",
        "      print(\"-> Objek ini juga instance dari PersegiPanjang\")\n",
        "    elif isinstance(bentuk, Segitiga):\n",
        "      print(\"-> Objek ini juga instance dari Segitiga\")\n",
        "  else:\n",
        "    print(\"Objek ini BUKAN instance dari BentukGeometri.\")\n",
        "  if isinstance(bentuk, str):\n",
        "    print(\"Objek ini adalah string.\")\n",
        "\n",
        "if __name__ == \"__main__\":\n",
        "  pp = PersegiPanjang(4, 3)\n",
        "  seg = Segitiga(5, 2)\n",
        "  bg = BentukGeometri(\"Lingkaran\")\n",
        "  teks = \"Ini string\"\n",
        "\n",
        "  daftar_objek = [pp, seg, bg, teks]\n",
        "  for obj in daftar_objek:\n",
        "    proses_bentuk(obj)"
      ],
      "metadata": {
        "colab": {
          "base_uri": "https://localhost:8080/"
        },
        "id": "YhdTRzhB0Ajj",
        "outputId": "f545511f-8fac-47c6-d9cc-2f0119664ead"
      },
      "execution_count": null,
      "outputs": [
        {
          "output_type": "stream",
          "name": "stdout",
          "text": [
            "\n",
            "Memproses objek: <class '__main__.PersegiPanjang'>\n",
            "Ini adalah bentuk: Persegi Panjang\n",
            "Objek ini adalah instance dari BentukGeometri (atau turunannya).\n",
            "-> Objek ini juga instance dari PersegiPanjang\n",
            "\n",
            "Memproses objek: <class '__main__.Segitiga'>\n",
            "Ini adalah bentuk: Segitiga\n",
            "Objek ini adalah instance dari BentukGeometri (atau turunannya).\n",
            "-> Objek ini juga instance dari Segitiga\n",
            "\n",
            "Memproses objek: <class '__main__.BentukGeometri'>\n",
            "Ini adalah bentuk: Lingkaran\n",
            "Objek ini adalah instance dari BentukGeometri (atau turunannya).\n",
            "\n",
            "Memproses objek: <class 'str'>\n",
            "Objek ini BUKAN instance dari BentukGeometri.\n",
            "Objek ini adalah string.\n"
          ]
        }
      ]
    },
    {
      "cell_type": "markdown",
      "source": [
        "#Tugas"
      ],
      "metadata": {
        "id": "ltSX_4mKuqLy"
      }
    },
    {
      "cell_type": "code",
      "source": [
        "class mahasiswa:\n",
        "  def __init__(self, nama, nim, ipk):\n",
        "    self.nama = nama\n",
        "    self.nim = nim\n",
        "    self.ipk = ipk\n",
        "\n",
        "  def tampilkan_info(self):\n",
        "    print(\"=\" * 25)\n",
        "    print(f\"Nama: {self.nama}\")\n",
        "    print(f\"NIM: {self.nim}\")\n",
        "    print(f\"IPK: {self.ipk}\")\n",
        "\n",
        "  def hitung_predikat(self):\n",
        "    if self.ipk >= 3.5:\n",
        "      print(\"Predikat: Dengan Pujian\")\n",
        "    elif self.ipk >= 3.0:\n",
        "      print(\"Predikat: Sangat Memuaskan\")\n",
        "    elif self.ipk >= 2.5:\n",
        "      print(\"Predikat: Memuaskan\")\n",
        "    else:\n",
        "      print(\"Predikat: Cukup\")\n",
        "\n",
        "class mahasiswaSarjana(mahasiswa):\n",
        "  def __init__(self, nama, nim, ipk, semester, sks_lulus):\n",
        "    super().__init__(nama, nim, ipk)\n",
        "    self.semester = semester\n",
        "    self.sks_lulus = sks_lulus\n",
        "\n",
        "  def tampilkan_info(self):\n",
        "    super().tampilkan_info()\n",
        "    print(f\"Semester: {self.semester}\")\n",
        "    print(f\"SKS Lulus: {self.sks_lulus}\")\n",
        "\n",
        "class mahasiswaMagister(mahasiswa):\n",
        "  def __init__(self, nama, nim, ipk, judul_tesis, pembimbing):\n",
        "    super().__init__(nama, nim, ipk)\n",
        "    self.judul_tesis = judul_tesis\n",
        "    self.pembimbing = pembimbing\n",
        "\n",
        "  def tampilkan_info(self):\n",
        "    super().tampilkan_info()\n",
        "    print(f\"Judul Tesis: {self.judul_tesis}\")\n",
        "    print(f\"Nama Pembimbing: {self.pembimbing}\")\n",
        "\n",
        "if __name__ == \"__main__\":\n",
        "  mhs1 = mahasiswaSarjana('Bagas', 'MHS01', 4.0, 2, 20)\n",
        "  mhs1.tampilkan_info()\n",
        "  mhs1.hitung_predikat()\n",
        "\n",
        "  mhs2 = mahasiswaMagister(\"Clover\", \"MHS02\", 2.5, \"Pengaruh Teknologi terhadap Dunia\", \"Pak Prayit\")\n",
        "  mhs2.tampilkan_info()\n",
        "  mhs2.hitung_predikat()"
      ],
      "metadata": {
        "id": "o4BiiaMuusdj",
        "outputId": "2a51211e-5111-4114-b7a2-4fd66e2a9ce0",
        "colab": {
          "base_uri": "https://localhost:8080/"
        }
      },
      "execution_count": 10,
      "outputs": [
        {
          "output_type": "stream",
          "name": "stdout",
          "text": [
            "=========================\n",
            "Nama: Bagas\n",
            "NIM: MHS01\n",
            "IPK: 4.0\n",
            "Semester: 2\n",
            "SKS Lulus: 20\n",
            "Predikat: Dengan Pujian\n",
            "=========================\n",
            "Nama: Clover\n",
            "NIM: MHS02\n",
            "IPK: 2.5\n",
            "Judul Tesis: Pengaruh Teknologi terhadap Dunia\n",
            "Nama Pembimbing: Pak Prayit\n",
            "Predikat: Memuaskan\n"
          ]
        }
      ]
    },
    {
      "cell_type": "markdown",
      "source": [
        "Kelas Diagram"
      ],
      "metadata": {
        "id": "gcZuCF1T4KOH"
      }
    },
    {
      "cell_type": "code",
      "source": [
        "print(\"\"\"\n",
        "                 +----------------------------+\n",
        "                 |    mahasiswa               |\n",
        "                 +----------------------------+\n",
        "                 | - nama: str                |\n",
        "                 | - nim: str                 |\n",
        "                 | - ipk: float               |\n",
        "                 +----------------------------+\n",
        "                 | + tampilkan_info(): void   |\n",
        "                 | + hitung_predikat(): void  |\n",
        "                 +----------------------------+\n",
        "                                ^\n",
        "                                |\n",
        "                +---------------+----------------+\n",
        "                |                                |\n",
        "  +-------------------------+     +----------------------------+\n",
        "  |  mahasiswaSarjana       |     |  mahasiswaMagister         |\n",
        "  +-------------------------+     +----------------------------+\n",
        "  | - semester: int         |     | - judul_tesis: str         |\n",
        "  | - sks_lulus: int        |     | - pembimbing: str          |\n",
        "  +-------------------------+     +----------------------------+\n",
        "  | + tampilkan_info(): void|     | + tampilkan_info(): void   |\n",
        "  +-------------------------+     +----------------------------+\n",
        "\"\"\")"
      ],
      "metadata": {
        "id": "b8elXLh6xcrI",
        "outputId": "ded3dd68-f627-4131-f891-175c1a768148",
        "colab": {
          "base_uri": "https://localhost:8080/"
        }
      },
      "execution_count": 13,
      "outputs": [
        {
          "output_type": "stream",
          "name": "stdout",
          "text": [
            "\n",
            "                 +----------------------------+\n",
            "                 |    mahasiswa               |\n",
            "                 +----------------------------+\n",
            "                 | - nama: str                |\n",
            "                 | - nim: str                 |\n",
            "                 | - ipk: float               |\n",
            "                 +----------------------------+\n",
            "                 | + tampilkan_info(): void   |\n",
            "                 | + hitung_predikat(): void  |\n",
            "                 +----------------------------+\n",
            "                                ^\n",
            "                                |\n",
            "                +---------------+----------------+\n",
            "                |                                |\n",
            "  +-------------------------+     +----------------------------+\n",
            "  |  mahasiswaSarjana       |     |  mahasiswaMagister         |\n",
            "  +-------------------------+     +----------------------------+\n",
            "  | - semester: int         |     | - judul_tesis: str         |\n",
            "  | - sks_lulus: int        |     | - pembimbing: str          |\n",
            "  +-------------------------+     +----------------------------+\n",
            "  | + tampilkan_info(): void|     | + tampilkan_info(): void   |\n",
            "  +-------------------------+     +----------------------------+\n",
            "\n"
          ]
        }
      ]
    }
  ]
}